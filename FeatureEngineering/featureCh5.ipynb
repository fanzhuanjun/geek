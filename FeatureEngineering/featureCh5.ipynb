{
 "cells": [
  {
   "cell_type": "markdown",
   "metadata": {},
   "source": [
    "# Ch5. 特征选择:对坏属性说不"
   ]
  },
  {
   "cell_type": "markdown",
   "metadata": {},
   "source": [
    "本章会讨论特征工程的一个子集，称为特征选择。特征选择是从原始数据中选择对于预测流水线而言最好的特征的过程。更正式地说，给定n个特征，我们搜索其中包括k(k<n)个特征的子集来改善机器学习流水线的性能。一般来说，我们的意思是:\n",
    "\n",
    "特征选择尝试剔除数据中的噪声。这个定义包括两个需要解决的问题:\n",
    "\n",
    "- 找到k特征子集的办法;\n",
    "- 在机器学习中对“更好”的定义。\n",
    "\n",
    "本章的大部分内容着重讲解寻找这类子集的方法，及其工作原理的基础。本章将特征选择的方法分为两大类:基于统计的特征选择，以及基于模型的特征选择。这种分类也许不能100%捕捉到特征选择在科学性和艺术性上的复杂程度，但是可以推动机器学习流水线输出真实、可应用的结果。"
   ]
  },
  {
   "cell_type": "markdown",
   "metadata": {},
   "source": [
    "在深入探讨这些方法之前，首先讨论一下如何更好地理解并定义“更好”这个概念。这个概念会贯穿本章乃至本书的剩余部分。\n",
    "\n",
    "本章会涉及如下主题:\n",
    "\n",
    "- 在特征工程中实现更好的性能;\n",
    "- 创建基准机器学习流水线;\n",
    "- 特征选择的类型;\n",
    "- 选用正确的特征选择方法。"
   ]
  },
  {
   "cell_type": "markdown",
   "metadata": {},
   "source": [
    "## 5.1 在特征工程中实现更好的性能"
   ]
  },
  {
   "cell_type": "markdown",
   "metadata": {},
   "source": [
    "在本书中，当我们讨论特征工程的方法时，需要对“更好”下定义。实际上，我们的目标是实现更好的预测性能，而且仅使用简单的指标进行测量，例如分类任务的准确率和回归任务的均方根误差(大部分是准确率)。我们还可以测量和跟踪其他指标，以评估预测的性能。\n",
    "\n",
    "例如，分类任务可以使用如下指标:\n",
    "\n",
    "- 真阳性率和假阳性率;\n",
    "- 灵敏度(真阳性率)和特异性;\n",
    "- 假阴性率和假阳性率。\n",
    "\n",
    "回归任务则可以使用:\n",
    "\n",
    "- 平均绝对误差;\n",
    "- $R^2$;\n",
    "\n",
    "这个列表还可以继续延长。虽然我们不会放弃用以上指标量化性能的想法，但是也可以测量其他元指标。元指标是指不直接与模型预测性能相关的指标，它们试图衡量周遭的性能，包括:\n",
    "\n",
    "- 模型拟合/训练所需的时间;\n",
    "- 拟合后的模型预测新实例的时间;\n",
    "- 需要持久化(永久保存)的数据大小。\n",
    "\n",
    "这补充了更好的定义，因为这些指标在预测性能之外涵盖了机器学习流水线的更多方面。为了跟踪这些指标，我们可以创建一个函数，通用到足以评估若干模型，同时精细到可以提供每个模型的指标。我们会利用 `get_best_model_and_accuracy` 函数，完成以下任务:\n",
    "\n",
    "- 搜索所有给定的参数，优化机器学习流水线;\n",
    "- 输出有助于评估流水线质量的指标。\n",
    "\n",
    "我们按如下办法定义该函数:"
   ]
  },
  {
   "cell_type": "code",
   "execution_count": 1,
   "metadata": {},
   "outputs": [],
   "source": [
    "from sklearn.model_selection import GridSearchCV\n",
    "\n",
    "def get_best_model_and_accuracy(model, params, X, y):\n",
    "    grid = GridSearchCV(model, params, error_score=0.)# 如果报错，结果是0\n",
    "    grid.fit(X, y)\n",
    "    # 经典的性能指标\n",
    "    print(\"Best Accuracy: {}\".format(grid.best_score_))\n",
    "    # 得到最佳准确率的最佳参数\n",
    "    print(\"Best Parameters: {}\".format(grid.best_params_)) # 拟合的平均时间(秒)\n",
    "    print(\"Average Time to Fit (s):{}\".format(round(grid.cv_results_['mean_fit_time'].mean(), 3))) # 预测的平均时间(秒)\n",
    "    # 从该指标可以看出模型在真实世界的性能\n",
    "    print(\"Average Time to Score (s):{}\".format(round(grid.cv_results_['mean_score_time'].mean(), 3)))"
   ]
  },
  {
   "cell_type": "markdown",
   "metadata": {},
   "source": [
    "### 案例分析:信用卡逾期数据集"
   ]
  },
  {
   "cell_type": "code",
   "execution_count": 2,
   "metadata": {},
   "outputs": [
    {
     "data": {
      "text/plain": [
       "(30000, 24)"
      ]
     },
     "execution_count": 2,
     "metadata": {},
     "output_type": "execute_result"
    }
   ],
   "source": [
    "import numpy as np\n",
    "import pandas as pd\n",
    "\n",
    "np.random.seed(123)\n",
    "credit_card_default= pd.read_csv('/Users/renyanmeng/Feature-Engineering-Made-Easy-master/data/credit_card_default.csv')\n",
    "credit_card_default.shape"
   ]
  },
  {
   "cell_type": "code",
   "execution_count": 3,
   "metadata": {},
   "outputs": [
    {
     "data": {
      "text/html": [
       "<div>\n",
       "<style scoped>\n",
       "    .dataframe tbody tr th:only-of-type {\n",
       "        vertical-align: middle;\n",
       "    }\n",
       "\n",
       "    .dataframe tbody tr th {\n",
       "        vertical-align: top;\n",
       "    }\n",
       "\n",
       "    .dataframe thead th {\n",
       "        text-align: right;\n",
       "    }\n",
       "</style>\n",
       "<table border=\"1\" class=\"dataframe\">\n",
       "  <thead>\n",
       "    <tr style=\"text-align: right;\">\n",
       "      <th></th>\n",
       "      <th>count</th>\n",
       "      <th>mean</th>\n",
       "      <th>std</th>\n",
       "      <th>min</th>\n",
       "      <th>25%</th>\n",
       "      <th>50%</th>\n",
       "      <th>75%</th>\n",
       "      <th>max</th>\n",
       "    </tr>\n",
       "  </thead>\n",
       "  <tbody>\n",
       "    <tr>\n",
       "      <td>LIMIT_BAL</td>\n",
       "      <td>30000.0</td>\n",
       "      <td>167484.323</td>\n",
       "      <td>129747.662</td>\n",
       "      <td>10000.0</td>\n",
       "      <td>50000.00</td>\n",
       "      <td>140000.0</td>\n",
       "      <td>240000.00</td>\n",
       "      <td>1000000.0</td>\n",
       "    </tr>\n",
       "    <tr>\n",
       "      <td>SEX</td>\n",
       "      <td>30000.0</td>\n",
       "      <td>1.604</td>\n",
       "      <td>0.489</td>\n",
       "      <td>1.0</td>\n",
       "      <td>1.00</td>\n",
       "      <td>2.0</td>\n",
       "      <td>2.00</td>\n",
       "      <td>2.0</td>\n",
       "    </tr>\n",
       "    <tr>\n",
       "      <td>EDUCATION</td>\n",
       "      <td>30000.0</td>\n",
       "      <td>1.853</td>\n",
       "      <td>0.790</td>\n",
       "      <td>0.0</td>\n",
       "      <td>1.00</td>\n",
       "      <td>2.0</td>\n",
       "      <td>2.00</td>\n",
       "      <td>6.0</td>\n",
       "    </tr>\n",
       "    <tr>\n",
       "      <td>MARRIAGE</td>\n",
       "      <td>30000.0</td>\n",
       "      <td>1.552</td>\n",
       "      <td>0.522</td>\n",
       "      <td>0.0</td>\n",
       "      <td>1.00</td>\n",
       "      <td>2.0</td>\n",
       "      <td>2.00</td>\n",
       "      <td>3.0</td>\n",
       "    </tr>\n",
       "    <tr>\n",
       "      <td>AGE</td>\n",
       "      <td>30000.0</td>\n",
       "      <td>35.486</td>\n",
       "      <td>9.218</td>\n",
       "      <td>21.0</td>\n",
       "      <td>28.00</td>\n",
       "      <td>34.0</td>\n",
       "      <td>41.00</td>\n",
       "      <td>79.0</td>\n",
       "    </tr>\n",
       "    <tr>\n",
       "      <td>PAY_0</td>\n",
       "      <td>30000.0</td>\n",
       "      <td>-0.017</td>\n",
       "      <td>1.124</td>\n",
       "      <td>-2.0</td>\n",
       "      <td>-1.00</td>\n",
       "      <td>0.0</td>\n",
       "      <td>0.00</td>\n",
       "      <td>8.0</td>\n",
       "    </tr>\n",
       "    <tr>\n",
       "      <td>PAY_2</td>\n",
       "      <td>30000.0</td>\n",
       "      <td>-0.134</td>\n",
       "      <td>1.197</td>\n",
       "      <td>-2.0</td>\n",
       "      <td>-1.00</td>\n",
       "      <td>0.0</td>\n",
       "      <td>0.00</td>\n",
       "      <td>8.0</td>\n",
       "    </tr>\n",
       "    <tr>\n",
       "      <td>PAY_3</td>\n",
       "      <td>30000.0</td>\n",
       "      <td>-0.166</td>\n",
       "      <td>1.197</td>\n",
       "      <td>-2.0</td>\n",
       "      <td>-1.00</td>\n",
       "      <td>0.0</td>\n",
       "      <td>0.00</td>\n",
       "      <td>8.0</td>\n",
       "    </tr>\n",
       "    <tr>\n",
       "      <td>PAY_4</td>\n",
       "      <td>30000.0</td>\n",
       "      <td>-0.221</td>\n",
       "      <td>1.169</td>\n",
       "      <td>-2.0</td>\n",
       "      <td>-1.00</td>\n",
       "      <td>0.0</td>\n",
       "      <td>0.00</td>\n",
       "      <td>8.0</td>\n",
       "    </tr>\n",
       "    <tr>\n",
       "      <td>PAY_5</td>\n",
       "      <td>30000.0</td>\n",
       "      <td>-0.266</td>\n",
       "      <td>1.133</td>\n",
       "      <td>-2.0</td>\n",
       "      <td>-1.00</td>\n",
       "      <td>0.0</td>\n",
       "      <td>0.00</td>\n",
       "      <td>8.0</td>\n",
       "    </tr>\n",
       "    <tr>\n",
       "      <td>PAY_6</td>\n",
       "      <td>30000.0</td>\n",
       "      <td>-0.291</td>\n",
       "      <td>1.150</td>\n",
       "      <td>-2.0</td>\n",
       "      <td>-1.00</td>\n",
       "      <td>0.0</td>\n",
       "      <td>0.00</td>\n",
       "      <td>8.0</td>\n",
       "    </tr>\n",
       "    <tr>\n",
       "      <td>BILL_AMT1</td>\n",
       "      <td>30000.0</td>\n",
       "      <td>51223.331</td>\n",
       "      <td>73635.861</td>\n",
       "      <td>-165580.0</td>\n",
       "      <td>3558.75</td>\n",
       "      <td>22381.5</td>\n",
       "      <td>67091.00</td>\n",
       "      <td>964511.0</td>\n",
       "    </tr>\n",
       "    <tr>\n",
       "      <td>BILL_AMT2</td>\n",
       "      <td>30000.0</td>\n",
       "      <td>49179.075</td>\n",
       "      <td>71173.769</td>\n",
       "      <td>-69777.0</td>\n",
       "      <td>2984.75</td>\n",
       "      <td>21200.0</td>\n",
       "      <td>64006.25</td>\n",
       "      <td>983931.0</td>\n",
       "    </tr>\n",
       "    <tr>\n",
       "      <td>BILL_AMT3</td>\n",
       "      <td>30000.0</td>\n",
       "      <td>47013.155</td>\n",
       "      <td>69349.387</td>\n",
       "      <td>-157264.0</td>\n",
       "      <td>2666.25</td>\n",
       "      <td>20088.5</td>\n",
       "      <td>60164.75</td>\n",
       "      <td>1664089.0</td>\n",
       "    </tr>\n",
       "    <tr>\n",
       "      <td>BILL_AMT4</td>\n",
       "      <td>30000.0</td>\n",
       "      <td>43262.949</td>\n",
       "      <td>64332.856</td>\n",
       "      <td>-170000.0</td>\n",
       "      <td>2326.75</td>\n",
       "      <td>19052.0</td>\n",
       "      <td>54506.00</td>\n",
       "      <td>891586.0</td>\n",
       "    </tr>\n",
       "    <tr>\n",
       "      <td>BILL_AMT5</td>\n",
       "      <td>30000.0</td>\n",
       "      <td>40311.401</td>\n",
       "      <td>60797.156</td>\n",
       "      <td>-81334.0</td>\n",
       "      <td>1763.00</td>\n",
       "      <td>18104.5</td>\n",
       "      <td>50190.50</td>\n",
       "      <td>927171.0</td>\n",
       "    </tr>\n",
       "    <tr>\n",
       "      <td>BILL_AMT6</td>\n",
       "      <td>30000.0</td>\n",
       "      <td>38871.760</td>\n",
       "      <td>59554.108</td>\n",
       "      <td>-339603.0</td>\n",
       "      <td>1256.00</td>\n",
       "      <td>17071.0</td>\n",
       "      <td>49198.25</td>\n",
       "      <td>961664.0</td>\n",
       "    </tr>\n",
       "    <tr>\n",
       "      <td>PAY_AMT1</td>\n",
       "      <td>30000.0</td>\n",
       "      <td>5663.580</td>\n",
       "      <td>16563.280</td>\n",
       "      <td>0.0</td>\n",
       "      <td>1000.00</td>\n",
       "      <td>2100.0</td>\n",
       "      <td>5006.00</td>\n",
       "      <td>873552.0</td>\n",
       "    </tr>\n",
       "    <tr>\n",
       "      <td>PAY_AMT2</td>\n",
       "      <td>30000.0</td>\n",
       "      <td>5921.164</td>\n",
       "      <td>23040.870</td>\n",
       "      <td>0.0</td>\n",
       "      <td>833.00</td>\n",
       "      <td>2009.0</td>\n",
       "      <td>5000.00</td>\n",
       "      <td>1684259.0</td>\n",
       "    </tr>\n",
       "    <tr>\n",
       "      <td>PAY_AMT3</td>\n",
       "      <td>30000.0</td>\n",
       "      <td>5225.682</td>\n",
       "      <td>17606.961</td>\n",
       "      <td>0.0</td>\n",
       "      <td>390.00</td>\n",
       "      <td>1800.0</td>\n",
       "      <td>4505.00</td>\n",
       "      <td>896040.0</td>\n",
       "    </tr>\n",
       "    <tr>\n",
       "      <td>PAY_AMT4</td>\n",
       "      <td>30000.0</td>\n",
       "      <td>4826.077</td>\n",
       "      <td>15666.160</td>\n",
       "      <td>0.0</td>\n",
       "      <td>296.00</td>\n",
       "      <td>1500.0</td>\n",
       "      <td>4013.25</td>\n",
       "      <td>621000.0</td>\n",
       "    </tr>\n",
       "    <tr>\n",
       "      <td>PAY_AMT5</td>\n",
       "      <td>30000.0</td>\n",
       "      <td>4799.388</td>\n",
       "      <td>15278.306</td>\n",
       "      <td>0.0</td>\n",
       "      <td>252.50</td>\n",
       "      <td>1500.0</td>\n",
       "      <td>4031.50</td>\n",
       "      <td>426529.0</td>\n",
       "    </tr>\n",
       "    <tr>\n",
       "      <td>PAY_AMT6</td>\n",
       "      <td>30000.0</td>\n",
       "      <td>5215.503</td>\n",
       "      <td>17777.466</td>\n",
       "      <td>0.0</td>\n",
       "      <td>117.75</td>\n",
       "      <td>1500.0</td>\n",
       "      <td>4000.00</td>\n",
       "      <td>528666.0</td>\n",
       "    </tr>\n",
       "    <tr>\n",
       "      <td>default payment next month</td>\n",
       "      <td>30000.0</td>\n",
       "      <td>0.221</td>\n",
       "      <td>0.415</td>\n",
       "      <td>0.0</td>\n",
       "      <td>0.00</td>\n",
       "      <td>0.0</td>\n",
       "      <td>0.00</td>\n",
       "      <td>1.0</td>\n",
       "    </tr>\n",
       "  </tbody>\n",
       "</table>\n",
       "</div>"
      ],
      "text/plain": [
       "                              count        mean         std       min  \\\n",
       "LIMIT_BAL                   30000.0  167484.323  129747.662   10000.0   \n",
       "SEX                         30000.0       1.604       0.489       1.0   \n",
       "EDUCATION                   30000.0       1.853       0.790       0.0   \n",
       "MARRIAGE                    30000.0       1.552       0.522       0.0   \n",
       "AGE                         30000.0      35.486       9.218      21.0   \n",
       "PAY_0                       30000.0      -0.017       1.124      -2.0   \n",
       "PAY_2                       30000.0      -0.134       1.197      -2.0   \n",
       "PAY_3                       30000.0      -0.166       1.197      -2.0   \n",
       "PAY_4                       30000.0      -0.221       1.169      -2.0   \n",
       "PAY_5                       30000.0      -0.266       1.133      -2.0   \n",
       "PAY_6                       30000.0      -0.291       1.150      -2.0   \n",
       "BILL_AMT1                   30000.0   51223.331   73635.861 -165580.0   \n",
       "BILL_AMT2                   30000.0   49179.075   71173.769  -69777.0   \n",
       "BILL_AMT3                   30000.0   47013.155   69349.387 -157264.0   \n",
       "BILL_AMT4                   30000.0   43262.949   64332.856 -170000.0   \n",
       "BILL_AMT5                   30000.0   40311.401   60797.156  -81334.0   \n",
       "BILL_AMT6                   30000.0   38871.760   59554.108 -339603.0   \n",
       "PAY_AMT1                    30000.0    5663.580   16563.280       0.0   \n",
       "PAY_AMT2                    30000.0    5921.164   23040.870       0.0   \n",
       "PAY_AMT3                    30000.0    5225.682   17606.961       0.0   \n",
       "PAY_AMT4                    30000.0    4826.077   15666.160       0.0   \n",
       "PAY_AMT5                    30000.0    4799.388   15278.306       0.0   \n",
       "PAY_AMT6                    30000.0    5215.503   17777.466       0.0   \n",
       "default payment next month  30000.0       0.221       0.415       0.0   \n",
       "\n",
       "                                 25%       50%        75%        max  \n",
       "LIMIT_BAL                   50000.00  140000.0  240000.00  1000000.0  \n",
       "SEX                             1.00       2.0       2.00        2.0  \n",
       "EDUCATION                       1.00       2.0       2.00        6.0  \n",
       "MARRIAGE                        1.00       2.0       2.00        3.0  \n",
       "AGE                            28.00      34.0      41.00       79.0  \n",
       "PAY_0                          -1.00       0.0       0.00        8.0  \n",
       "PAY_2                          -1.00       0.0       0.00        8.0  \n",
       "PAY_3                          -1.00       0.0       0.00        8.0  \n",
       "PAY_4                          -1.00       0.0       0.00        8.0  \n",
       "PAY_5                          -1.00       0.0       0.00        8.0  \n",
       "PAY_6                          -1.00       0.0       0.00        8.0  \n",
       "BILL_AMT1                    3558.75   22381.5   67091.00   964511.0  \n",
       "BILL_AMT2                    2984.75   21200.0   64006.25   983931.0  \n",
       "BILL_AMT3                    2666.25   20088.5   60164.75  1664089.0  \n",
       "BILL_AMT4                    2326.75   19052.0   54506.00   891586.0  \n",
       "BILL_AMT5                    1763.00   18104.5   50190.50   927171.0  \n",
       "BILL_AMT6                    1256.00   17071.0   49198.25   961664.0  \n",
       "PAY_AMT1                     1000.00    2100.0    5006.00   873552.0  \n",
       "PAY_AMT2                      833.00    2009.0    5000.00  1684259.0  \n",
       "PAY_AMT3                      390.00    1800.0    4505.00   896040.0  \n",
       "PAY_AMT4                      296.00    1500.0    4013.25   621000.0  \n",
       "PAY_AMT5                      252.50    1500.0    4031.50   426529.0  \n",
       "PAY_AMT6                      117.75    1500.0    4000.00   528666.0  \n",
       "default payment next month      0.00       0.0       0.00        1.0  "
      ]
     },
     "execution_count": 3,
     "metadata": {},
     "output_type": "execute_result"
    }
   ],
   "source": [
    "credit_card_default.describe().T.round(3)"
   ]
  },
  {
   "cell_type": "code",
   "execution_count": 4,
   "metadata": {},
   "outputs": [
    {
     "data": {
      "text/plain": [
       "LIMIT_BAL                     0\n",
       "SEX                           0\n",
       "EDUCATION                     0\n",
       "MARRIAGE                      0\n",
       "AGE                           0\n",
       "PAY_0                         0\n",
       "PAY_2                         0\n",
       "PAY_3                         0\n",
       "PAY_4                         0\n",
       "PAY_5                         0\n",
       "PAY_6                         0\n",
       "BILL_AMT1                     0\n",
       "BILL_AMT2                     0\n",
       "BILL_AMT3                     0\n",
       "BILL_AMT4                     0\n",
       "BILL_AMT5                     0\n",
       "BILL_AMT6                     0\n",
       "PAY_AMT1                      0\n",
       "PAY_AMT2                      0\n",
       "PAY_AMT3                      0\n",
       "PAY_AMT4                      0\n",
       "PAY_AMT5                      0\n",
       "PAY_AMT6                      0\n",
       "default payment next month    0\n",
       "dtype: int64"
      ]
     },
     "execution_count": 4,
     "metadata": {},
     "output_type": "execute_result"
    }
   ],
   "source": [
    "credit_card_default.isnull().sum()"
   ]
  },
  {
   "cell_type": "code",
   "execution_count": 5,
   "metadata": {},
   "outputs": [],
   "source": [
    "X = credit_card_default.drop(\"default payment next month\", axis=1)\n",
    "y = credit_card_default[\"default payment next month\"]"
   ]
  },
  {
   "cell_type": "code",
   "execution_count": 6,
   "metadata": {},
   "outputs": [
    {
     "data": {
      "text/plain": [
       "0    0.7788\n",
       "1    0.2212\n",
       "Name: default payment next month, dtype: float64"
      ]
     },
     "execution_count": 6,
     "metadata": {},
     "output_type": "execute_result"
    }
   ],
   "source": [
    "# 取空准确率\n",
    "y.value_counts(normalize=True)"
   ]
  },
  {
   "cell_type": "markdown",
   "metadata": {},
   "source": [
    "## 5.2 创建基准机器学习流水线"
   ]
  },
  {
   "cell_type": "markdown",
   "metadata": {},
   "source": [
    "在前几章里，我们都提供了一个全章通用的机器学习模型。在本章中，我们会做一些工作，寻找最符合我们需求的机器学习模型，然后通过特征选择来增强模型。先导入4种模型:\n",
    "\n",
    "- 逻辑回归;\n",
    "- K最近邻(KNN);\n",
    "- 决策树;\n",
    "- 随机森林。"
   ]
  },
  {
   "cell_type": "code",
   "execution_count": 7,
   "metadata": {},
   "outputs": [],
   "source": [
    "# 导入4种模型\n",
    "from sklearn.linear_model import LogisticRegression\n",
    "from sklearn.neighbors import KNeighborsClassifier\n",
    "from sklearn.tree import DecisionTreeClassifier\n",
    "from sklearn.ensemble import RandomForestClassifier"
   ]
  },
  {
   "cell_type": "code",
   "execution_count": 8,
   "metadata": {},
   "outputs": [],
   "source": [
    "# 为网格搜索设置变量\n",
    "# 先设置机器学习模型的参数\n",
    "# 逻辑回归\n",
    "lr_params = {'C':[1e-1, 1e0, 1e1, 1e2], 'penalty':['l1', 'l2']}\n",
    "# KNN\n",
    "knn_params = {'n_neighbors': [1, 3, 5, 7]}\n",
    "# 决策树\n",
    "tree_params = {'max_depth':[None, 1, 3, 5, 7]}\n",
    "# 随机森林\n",
    "forest_params = {'n_estimators': [10, 50, 100], 'max_depth': [None, 1, 3, 5, 7]}"
   ]
  },
  {
   "cell_type": "code",
   "execution_count": 9,
   "metadata": {},
   "outputs": [],
   "source": [
    "# 实例化机器学习模型\n",
    "lr = LogisticRegression()\n",
    "knn = KNeighborsClassifier()\n",
    "d_tree = DecisionTreeClassifier()\n",
    "forest = RandomForestClassifier()"
   ]
  },
  {
   "cell_type": "markdown",
   "metadata": {},
   "source": [
    "我们在所有的模型上运行评估函数，了解一下效果的好坏。"
   ]
  },
  {
   "cell_type": "code",
   "execution_count": 10,
   "metadata": {},
   "outputs": [
    {
     "name": "stdout",
     "output_type": "stream",
     "text": [
      "Best Accuracy: 0.8095666666666667\n",
      "Best Parameters: {'C': 0.1, 'penalty': 'l1'}\n",
      "Average Time to Fit (s):0.397\n",
      "Average Time to Score (s):0.002\n"
     ]
    }
   ],
   "source": [
    "import warnings\n",
    "\n",
    "warnings.filterwarnings('ignore')\n",
    "\n",
    "get_best_model_and_accuracy(lr, lr_params, X, y)"
   ]
  },
  {
   "cell_type": "code",
   "execution_count": 11,
   "metadata": {},
   "outputs": [
    {
     "name": "stdout",
     "output_type": "stream",
     "text": [
      "LogisticRegression(C=1.0, class_weight=None, dual=False, fit_intercept=True,\n",
      "                   intercept_scaling=1, l1_ratio=None, max_iter=100,\n",
      "                   multi_class='warn', n_jobs=None, penalty='l2',\n",
      "                   random_state=None, solver='warn', tol=0.0001, verbose=0,\n",
      "                   warm_start=False)\n",
      "Best Accuracy: 0.8096\n",
      "Best Parameters: {'C': 0.1, 'penalty': 'l1'}\n",
      "Average Time to Fit (s):0.49\n",
      "Average Time to Score (s):0.002\n",
      "----------------------------------------\n",
      "KNeighborsClassifier(algorithm='auto', leaf_size=30, metric='minkowski',\n",
      "                     metric_params=None, n_jobs=None, n_neighbors=5, p=2,\n",
      "                     weights='uniform')\n",
      "Best Accuracy: 0.7602333333333333\n",
      "Best Parameters: {'n_neighbors': 7}\n",
      "Average Time to Fit (s):0.017\n",
      "Average Time to Score (s):0.752\n",
      "----------------------------------------\n",
      "DecisionTreeClassifier(class_weight=None, criterion='gini', max_depth=None,\n",
      "                       max_features=None, max_leaf_nodes=None,\n",
      "                       min_impurity_decrease=0.0, min_impurity_split=None,\n",
      "                       min_samples_leaf=1, min_samples_split=2,\n",
      "                       min_weight_fraction_leaf=0.0, presort=False,\n",
      "                       random_state=None, splitter='best')\n",
      "Best Accuracy: 0.8202666666666667\n",
      "Best Parameters: {'max_depth': 3}\n",
      "Average Time to Fit (s):0.142\n",
      "Average Time to Score (s):0.002\n",
      "----------------------------------------\n",
      "RandomForestClassifier(bootstrap=True, class_weight=None, criterion='gini',\n",
      "                       max_depth=None, max_features='auto', max_leaf_nodes=None,\n",
      "                       min_impurity_decrease=0.0, min_impurity_split=None,\n",
      "                       min_samples_leaf=1, min_samples_split=2,\n",
      "                       min_weight_fraction_leaf=0.0, n_estimators='warn',\n",
      "                       n_jobs=None, oob_score=False, random_state=None,\n",
      "                       verbose=0, warm_start=False)\n",
      "Best Accuracy: 0.8191\n",
      "Best Parameters: {'max_depth': 7, 'n_estimators': 100}\n",
      "Average Time to Fit (s):1.061\n",
      "Average Time to Score (s):0.045\n",
      "----------------------------------------\n"
     ]
    }
   ],
   "source": [
    "import warnings\n",
    "\n",
    "warnings.filterwarnings('ignore')\n",
    "models = [lr, knn, d_tree, forest]\n",
    "params = [lr_params, knn_params, tree_params, forest_params]\n",
    "for model, p in zip(models, params):\n",
    "    print(f\"{model}\")\n",
    "    get_best_model_and_accuracy(model, p, X, y)\n",
    "    print(\"--\"*20)"
   ]
  },
  {
   "cell_type": "markdown",
   "metadata": {},
   "source": [
    "不出所料，KNN在拟合时间上表现得更好。因为在拟合时，KNN只需要按方便检索和及时处理的方法存储数据。注意，这里的准确率甚至不如空准确率!你有可能在考虑原因是什么。如果你想到“等等，KNN是按照欧几里得距离进行预测的，在非标准数据上可能会失效，但是其他3个算法不会受此影响”，那么你是对的。\n",
    "\n",
    "KNN是基于距离的模型，使用空间的紧密度衡量，假定所有的特征尺度相同，但是我们知道数据并不是这样。因此对于KNN，我们需要更复杂的流水线，以更准确地评估基准性能。代码如下:"
   ]
  },
  {
   "cell_type": "code",
   "execution_count": 12,
   "metadata": {},
   "outputs": [
    {
     "data": {
      "text/plain": [
       "{'classifier__n_neighbors': [1, 3, 5, 7]}"
      ]
     },
     "execution_count": 12,
     "metadata": {},
     "output_type": "execute_result"
    }
   ],
   "source": [
    "from sklearn.pipeline import Pipeline\n",
    "from sklearn.preprocessing import StandardScaler\n",
    "# 为流水线设置 KNN 参数\n",
    "knn_pipe_params = {\"classifier__{}\".format(k): v for k, v in knn_params.items()}\n",
    "knn_pipe_params"
   ]
  },
  {
   "cell_type": "code",
   "execution_count": 13,
   "metadata": {},
   "outputs": [],
   "source": [
    "# KNN 需要标准化的参数\n",
    "knn_pipe = Pipeline([(\"scale\", StandardScaler()), (\"classifier\", knn)])"
   ]
  },
  {
   "cell_type": "code",
   "execution_count": 14,
   "metadata": {},
   "outputs": [
    {
     "name": "stdout",
     "output_type": "stream",
     "text": [
      "Best Accuracy: 0.8008\n",
      "Best Parameters: {'classifier__n_neighbors': 7}\n",
      "Average Time to Fit (s):0.03\n",
      "Average Time to Score (s):6.095\n"
     ]
    }
   ],
   "source": [
    "# 拟合快，预测慢\n",
    "get_best_model_and_accuracy(knn_pipe, knn_pipe_params, X, y)"
   ]
  },
  {
   "cell_type": "markdown",
   "metadata": {},
   "source": [
    "## 5.3 特征选择的类型"
   ]
  },
  {
   "cell_type": "markdown",
   "metadata": {},
   "source": [
    "回想一下，选择特征是为了提高预测能力，降低时间成本。所以这里介绍两种类型:基于统计和基于模型的特征选择。基于统计的特征选择很大程度上依赖于机器学习模型之外的统计测试，以便在流水线的训练阶段选择特征。基于模型的特征选择则依赖于一个预处理步骤，需要训练一个辅助的机器学习模型，并利用其预测能力来选择特征。"
   ]
  },
  {
   "cell_type": "markdown",
   "metadata": {},
   "source": [
    "### 5.3.1 基于统计的特征选择"
   ]
  },
  {
   "cell_type": "markdown",
   "metadata": {},
   "source": [
    "本章会使用两个新概念帮我们选择特征:\n",
    "\n",
    "- 皮尔逊相关系数(Pearsoncorrelations);\n",
    "- 假设检验。"
   ]
  },
  {
   "cell_type": "markdown",
   "metadata": {},
   "source": [
    "#### 1. 使用皮尔逊相关系数"
   ]
  },
  {
   "cell_type": "code",
   "execution_count": 15,
   "metadata": {},
   "outputs": [
    {
     "data": {
      "text/html": [
       "<div>\n",
       "<style scoped>\n",
       "    .dataframe tbody tr th:only-of-type {\n",
       "        vertical-align: middle;\n",
       "    }\n",
       "\n",
       "    .dataframe tbody tr th {\n",
       "        vertical-align: top;\n",
       "    }\n",
       "\n",
       "    .dataframe thead th {\n",
       "        text-align: right;\n",
       "    }\n",
       "</style>\n",
       "<table border=\"1\" class=\"dataframe\">\n",
       "  <thead>\n",
       "    <tr style=\"text-align: right;\">\n",
       "      <th></th>\n",
       "      <th>LIMIT_BAL</th>\n",
       "      <th>SEX</th>\n",
       "      <th>EDUCATION</th>\n",
       "      <th>MARRIAGE</th>\n",
       "      <th>AGE</th>\n",
       "      <th>PAY_0</th>\n",
       "      <th>PAY_2</th>\n",
       "      <th>PAY_3</th>\n",
       "      <th>PAY_4</th>\n",
       "      <th>PAY_5</th>\n",
       "      <th>...</th>\n",
       "      <th>BILL_AMT4</th>\n",
       "      <th>BILL_AMT5</th>\n",
       "      <th>BILL_AMT6</th>\n",
       "      <th>PAY_AMT1</th>\n",
       "      <th>PAY_AMT2</th>\n",
       "      <th>PAY_AMT3</th>\n",
       "      <th>PAY_AMT4</th>\n",
       "      <th>PAY_AMT5</th>\n",
       "      <th>PAY_AMT6</th>\n",
       "      <th>default payment next month</th>\n",
       "    </tr>\n",
       "  </thead>\n",
       "  <tbody>\n",
       "    <tr>\n",
       "      <td>LIMIT_BAL</td>\n",
       "      <td>1.000000</td>\n",
       "      <td>0.024755</td>\n",
       "      <td>-0.219161</td>\n",
       "      <td>-0.108139</td>\n",
       "      <td>0.144713</td>\n",
       "      <td>-0.271214</td>\n",
       "      <td>-0.296382</td>\n",
       "      <td>-0.286123</td>\n",
       "      <td>-0.267460</td>\n",
       "      <td>-0.249411</td>\n",
       "      <td>...</td>\n",
       "      <td>0.293988</td>\n",
       "      <td>0.295562</td>\n",
       "      <td>0.290389</td>\n",
       "      <td>0.195236</td>\n",
       "      <td>0.178408</td>\n",
       "      <td>0.210167</td>\n",
       "      <td>0.203242</td>\n",
       "      <td>0.217202</td>\n",
       "      <td>0.219595</td>\n",
       "      <td>-0.153520</td>\n",
       "    </tr>\n",
       "    <tr>\n",
       "      <td>SEX</td>\n",
       "      <td>0.024755</td>\n",
       "      <td>1.000000</td>\n",
       "      <td>0.014232</td>\n",
       "      <td>-0.031389</td>\n",
       "      <td>-0.090874</td>\n",
       "      <td>-0.057643</td>\n",
       "      <td>-0.070771</td>\n",
       "      <td>-0.066096</td>\n",
       "      <td>-0.060173</td>\n",
       "      <td>-0.055064</td>\n",
       "      <td>...</td>\n",
       "      <td>-0.021880</td>\n",
       "      <td>-0.017005</td>\n",
       "      <td>-0.016733</td>\n",
       "      <td>-0.000242</td>\n",
       "      <td>-0.001391</td>\n",
       "      <td>-0.008597</td>\n",
       "      <td>-0.002229</td>\n",
       "      <td>-0.001667</td>\n",
       "      <td>-0.002766</td>\n",
       "      <td>-0.039961</td>\n",
       "    </tr>\n",
       "    <tr>\n",
       "      <td>EDUCATION</td>\n",
       "      <td>-0.219161</td>\n",
       "      <td>0.014232</td>\n",
       "      <td>1.000000</td>\n",
       "      <td>-0.143464</td>\n",
       "      <td>0.175061</td>\n",
       "      <td>0.105364</td>\n",
       "      <td>0.121566</td>\n",
       "      <td>0.114025</td>\n",
       "      <td>0.108793</td>\n",
       "      <td>0.097520</td>\n",
       "      <td>...</td>\n",
       "      <td>-0.000451</td>\n",
       "      <td>-0.007567</td>\n",
       "      <td>-0.009099</td>\n",
       "      <td>-0.037456</td>\n",
       "      <td>-0.030038</td>\n",
       "      <td>-0.039943</td>\n",
       "      <td>-0.038218</td>\n",
       "      <td>-0.040358</td>\n",
       "      <td>-0.037200</td>\n",
       "      <td>0.028006</td>\n",
       "    </tr>\n",
       "    <tr>\n",
       "      <td>MARRIAGE</td>\n",
       "      <td>-0.108139</td>\n",
       "      <td>-0.031389</td>\n",
       "      <td>-0.143464</td>\n",
       "      <td>1.000000</td>\n",
       "      <td>-0.414170</td>\n",
       "      <td>0.019917</td>\n",
       "      <td>0.024199</td>\n",
       "      <td>0.032688</td>\n",
       "      <td>0.033122</td>\n",
       "      <td>0.035629</td>\n",
       "      <td>...</td>\n",
       "      <td>-0.023344</td>\n",
       "      <td>-0.025393</td>\n",
       "      <td>-0.021207</td>\n",
       "      <td>-0.005979</td>\n",
       "      <td>-0.008093</td>\n",
       "      <td>-0.003541</td>\n",
       "      <td>-0.012659</td>\n",
       "      <td>-0.001205</td>\n",
       "      <td>-0.006641</td>\n",
       "      <td>-0.024339</td>\n",
       "    </tr>\n",
       "    <tr>\n",
       "      <td>AGE</td>\n",
       "      <td>0.144713</td>\n",
       "      <td>-0.090874</td>\n",
       "      <td>0.175061</td>\n",
       "      <td>-0.414170</td>\n",
       "      <td>1.000000</td>\n",
       "      <td>-0.039447</td>\n",
       "      <td>-0.050148</td>\n",
       "      <td>-0.053048</td>\n",
       "      <td>-0.049722</td>\n",
       "      <td>-0.053826</td>\n",
       "      <td>...</td>\n",
       "      <td>0.051353</td>\n",
       "      <td>0.049345</td>\n",
       "      <td>0.047613</td>\n",
       "      <td>0.026147</td>\n",
       "      <td>0.021785</td>\n",
       "      <td>0.029247</td>\n",
       "      <td>0.021379</td>\n",
       "      <td>0.022850</td>\n",
       "      <td>0.019478</td>\n",
       "      <td>0.013890</td>\n",
       "    </tr>\n",
       "    <tr>\n",
       "      <td>PAY_0</td>\n",
       "      <td>-0.271214</td>\n",
       "      <td>-0.057643</td>\n",
       "      <td>0.105364</td>\n",
       "      <td>0.019917</td>\n",
       "      <td>-0.039447</td>\n",
       "      <td>1.000000</td>\n",
       "      <td>0.672164</td>\n",
       "      <td>0.574245</td>\n",
       "      <td>0.538841</td>\n",
       "      <td>0.509426</td>\n",
       "      <td>...</td>\n",
       "      <td>0.179125</td>\n",
       "      <td>0.180635</td>\n",
       "      <td>0.176980</td>\n",
       "      <td>-0.079269</td>\n",
       "      <td>-0.070101</td>\n",
       "      <td>-0.070561</td>\n",
       "      <td>-0.064005</td>\n",
       "      <td>-0.058190</td>\n",
       "      <td>-0.058673</td>\n",
       "      <td>0.324794</td>\n",
       "    </tr>\n",
       "    <tr>\n",
       "      <td>PAY_2</td>\n",
       "      <td>-0.296382</td>\n",
       "      <td>-0.070771</td>\n",
       "      <td>0.121566</td>\n",
       "      <td>0.024199</td>\n",
       "      <td>-0.050148</td>\n",
       "      <td>0.672164</td>\n",
       "      <td>1.000000</td>\n",
       "      <td>0.766552</td>\n",
       "      <td>0.662067</td>\n",
       "      <td>0.622780</td>\n",
       "      <td>...</td>\n",
       "      <td>0.222237</td>\n",
       "      <td>0.221348</td>\n",
       "      <td>0.219403</td>\n",
       "      <td>-0.080701</td>\n",
       "      <td>-0.058990</td>\n",
       "      <td>-0.055901</td>\n",
       "      <td>-0.046858</td>\n",
       "      <td>-0.037093</td>\n",
       "      <td>-0.036500</td>\n",
       "      <td>0.263551</td>\n",
       "    </tr>\n",
       "    <tr>\n",
       "      <td>PAY_3</td>\n",
       "      <td>-0.286123</td>\n",
       "      <td>-0.066096</td>\n",
       "      <td>0.114025</td>\n",
       "      <td>0.032688</td>\n",
       "      <td>-0.053048</td>\n",
       "      <td>0.574245</td>\n",
       "      <td>0.766552</td>\n",
       "      <td>1.000000</td>\n",
       "      <td>0.777359</td>\n",
       "      <td>0.686775</td>\n",
       "      <td>...</td>\n",
       "      <td>0.227202</td>\n",
       "      <td>0.225145</td>\n",
       "      <td>0.222327</td>\n",
       "      <td>0.001295</td>\n",
       "      <td>-0.066793</td>\n",
       "      <td>-0.053311</td>\n",
       "      <td>-0.046067</td>\n",
       "      <td>-0.035863</td>\n",
       "      <td>-0.035861</td>\n",
       "      <td>0.235253</td>\n",
       "    </tr>\n",
       "    <tr>\n",
       "      <td>PAY_4</td>\n",
       "      <td>-0.267460</td>\n",
       "      <td>-0.060173</td>\n",
       "      <td>0.108793</td>\n",
       "      <td>0.033122</td>\n",
       "      <td>-0.049722</td>\n",
       "      <td>0.538841</td>\n",
       "      <td>0.662067</td>\n",
       "      <td>0.777359</td>\n",
       "      <td>1.000000</td>\n",
       "      <td>0.819835</td>\n",
       "      <td>...</td>\n",
       "      <td>0.245917</td>\n",
       "      <td>0.242902</td>\n",
       "      <td>0.239154</td>\n",
       "      <td>-0.009362</td>\n",
       "      <td>-0.001944</td>\n",
       "      <td>-0.069235</td>\n",
       "      <td>-0.043461</td>\n",
       "      <td>-0.033590</td>\n",
       "      <td>-0.026565</td>\n",
       "      <td>0.216614</td>\n",
       "    </tr>\n",
       "    <tr>\n",
       "      <td>PAY_5</td>\n",
       "      <td>-0.249411</td>\n",
       "      <td>-0.055064</td>\n",
       "      <td>0.097520</td>\n",
       "      <td>0.035629</td>\n",
       "      <td>-0.053826</td>\n",
       "      <td>0.509426</td>\n",
       "      <td>0.622780</td>\n",
       "      <td>0.686775</td>\n",
       "      <td>0.819835</td>\n",
       "      <td>1.000000</td>\n",
       "      <td>...</td>\n",
       "      <td>0.271915</td>\n",
       "      <td>0.269783</td>\n",
       "      <td>0.262509</td>\n",
       "      <td>-0.006089</td>\n",
       "      <td>-0.003191</td>\n",
       "      <td>0.009062</td>\n",
       "      <td>-0.058299</td>\n",
       "      <td>-0.033337</td>\n",
       "      <td>-0.023027</td>\n",
       "      <td>0.204149</td>\n",
       "    </tr>\n",
       "    <tr>\n",
       "      <td>PAY_6</td>\n",
       "      <td>-0.235195</td>\n",
       "      <td>-0.044008</td>\n",
       "      <td>0.082316</td>\n",
       "      <td>0.034345</td>\n",
       "      <td>-0.048773</td>\n",
       "      <td>0.474553</td>\n",
       "      <td>0.575501</td>\n",
       "      <td>0.632684</td>\n",
       "      <td>0.716449</td>\n",
       "      <td>0.816900</td>\n",
       "      <td>...</td>\n",
       "      <td>0.266356</td>\n",
       "      <td>0.290894</td>\n",
       "      <td>0.285091</td>\n",
       "      <td>-0.001496</td>\n",
       "      <td>-0.005223</td>\n",
       "      <td>0.005834</td>\n",
       "      <td>0.019018</td>\n",
       "      <td>-0.046434</td>\n",
       "      <td>-0.025299</td>\n",
       "      <td>0.186866</td>\n",
       "    </tr>\n",
       "    <tr>\n",
       "      <td>BILL_AMT1</td>\n",
       "      <td>0.285430</td>\n",
       "      <td>-0.033642</td>\n",
       "      <td>0.023581</td>\n",
       "      <td>-0.023472</td>\n",
       "      <td>0.056239</td>\n",
       "      <td>0.187068</td>\n",
       "      <td>0.234887</td>\n",
       "      <td>0.208473</td>\n",
       "      <td>0.202812</td>\n",
       "      <td>0.206684</td>\n",
       "      <td>...</td>\n",
       "      <td>0.860272</td>\n",
       "      <td>0.829779</td>\n",
       "      <td>0.802650</td>\n",
       "      <td>0.140277</td>\n",
       "      <td>0.099355</td>\n",
       "      <td>0.156887</td>\n",
       "      <td>0.158303</td>\n",
       "      <td>0.167026</td>\n",
       "      <td>0.179341</td>\n",
       "      <td>-0.019644</td>\n",
       "    </tr>\n",
       "    <tr>\n",
       "      <td>BILL_AMT2</td>\n",
       "      <td>0.278314</td>\n",
       "      <td>-0.031183</td>\n",
       "      <td>0.018749</td>\n",
       "      <td>-0.021602</td>\n",
       "      <td>0.054283</td>\n",
       "      <td>0.189859</td>\n",
       "      <td>0.235257</td>\n",
       "      <td>0.237295</td>\n",
       "      <td>0.225816</td>\n",
       "      <td>0.226913</td>\n",
       "      <td>...</td>\n",
       "      <td>0.892482</td>\n",
       "      <td>0.859778</td>\n",
       "      <td>0.831594</td>\n",
       "      <td>0.280365</td>\n",
       "      <td>0.100851</td>\n",
       "      <td>0.150718</td>\n",
       "      <td>0.147398</td>\n",
       "      <td>0.157957</td>\n",
       "      <td>0.174256</td>\n",
       "      <td>-0.014193</td>\n",
       "    </tr>\n",
       "    <tr>\n",
       "      <td>BILL_AMT3</td>\n",
       "      <td>0.283236</td>\n",
       "      <td>-0.024563</td>\n",
       "      <td>0.013002</td>\n",
       "      <td>-0.024909</td>\n",
       "      <td>0.053710</td>\n",
       "      <td>0.179785</td>\n",
       "      <td>0.224146</td>\n",
       "      <td>0.227494</td>\n",
       "      <td>0.244983</td>\n",
       "      <td>0.243335</td>\n",
       "      <td>...</td>\n",
       "      <td>0.923969</td>\n",
       "      <td>0.883910</td>\n",
       "      <td>0.853320</td>\n",
       "      <td>0.244335</td>\n",
       "      <td>0.316936</td>\n",
       "      <td>0.130011</td>\n",
       "      <td>0.143405</td>\n",
       "      <td>0.179712</td>\n",
       "      <td>0.182326</td>\n",
       "      <td>-0.014076</td>\n",
       "    </tr>\n",
       "    <tr>\n",
       "      <td>BILL_AMT4</td>\n",
       "      <td>0.293988</td>\n",
       "      <td>-0.021880</td>\n",
       "      <td>-0.000451</td>\n",
       "      <td>-0.023344</td>\n",
       "      <td>0.051353</td>\n",
       "      <td>0.179125</td>\n",
       "      <td>0.222237</td>\n",
       "      <td>0.227202</td>\n",
       "      <td>0.245917</td>\n",
       "      <td>0.271915</td>\n",
       "      <td>...</td>\n",
       "      <td>1.000000</td>\n",
       "      <td>0.940134</td>\n",
       "      <td>0.900941</td>\n",
       "      <td>0.233012</td>\n",
       "      <td>0.207564</td>\n",
       "      <td>0.300023</td>\n",
       "      <td>0.130191</td>\n",
       "      <td>0.160433</td>\n",
       "      <td>0.177637</td>\n",
       "      <td>-0.010156</td>\n",
       "    </tr>\n",
       "    <tr>\n",
       "      <td>BILL_AMT5</td>\n",
       "      <td>0.295562</td>\n",
       "      <td>-0.017005</td>\n",
       "      <td>-0.007567</td>\n",
       "      <td>-0.025393</td>\n",
       "      <td>0.049345</td>\n",
       "      <td>0.180635</td>\n",
       "      <td>0.221348</td>\n",
       "      <td>0.225145</td>\n",
       "      <td>0.242902</td>\n",
       "      <td>0.269783</td>\n",
       "      <td>...</td>\n",
       "      <td>0.940134</td>\n",
       "      <td>1.000000</td>\n",
       "      <td>0.946197</td>\n",
       "      <td>0.217031</td>\n",
       "      <td>0.181246</td>\n",
       "      <td>0.252305</td>\n",
       "      <td>0.293118</td>\n",
       "      <td>0.141574</td>\n",
       "      <td>0.164184</td>\n",
       "      <td>-0.006760</td>\n",
       "    </tr>\n",
       "    <tr>\n",
       "      <td>BILL_AMT6</td>\n",
       "      <td>0.290389</td>\n",
       "      <td>-0.016733</td>\n",
       "      <td>-0.009099</td>\n",
       "      <td>-0.021207</td>\n",
       "      <td>0.047613</td>\n",
       "      <td>0.176980</td>\n",
       "      <td>0.219403</td>\n",
       "      <td>0.222327</td>\n",
       "      <td>0.239154</td>\n",
       "      <td>0.262509</td>\n",
       "      <td>...</td>\n",
       "      <td>0.900941</td>\n",
       "      <td>0.946197</td>\n",
       "      <td>1.000000</td>\n",
       "      <td>0.199965</td>\n",
       "      <td>0.172663</td>\n",
       "      <td>0.233770</td>\n",
       "      <td>0.250237</td>\n",
       "      <td>0.307729</td>\n",
       "      <td>0.115494</td>\n",
       "      <td>-0.005372</td>\n",
       "    </tr>\n",
       "    <tr>\n",
       "      <td>PAY_AMT1</td>\n",
       "      <td>0.195236</td>\n",
       "      <td>-0.000242</td>\n",
       "      <td>-0.037456</td>\n",
       "      <td>-0.005979</td>\n",
       "      <td>0.026147</td>\n",
       "      <td>-0.079269</td>\n",
       "      <td>-0.080701</td>\n",
       "      <td>0.001295</td>\n",
       "      <td>-0.009362</td>\n",
       "      <td>-0.006089</td>\n",
       "      <td>...</td>\n",
       "      <td>0.233012</td>\n",
       "      <td>0.217031</td>\n",
       "      <td>0.199965</td>\n",
       "      <td>1.000000</td>\n",
       "      <td>0.285576</td>\n",
       "      <td>0.252191</td>\n",
       "      <td>0.199558</td>\n",
       "      <td>0.148459</td>\n",
       "      <td>0.185735</td>\n",
       "      <td>-0.072929</td>\n",
       "    </tr>\n",
       "    <tr>\n",
       "      <td>PAY_AMT2</td>\n",
       "      <td>0.178408</td>\n",
       "      <td>-0.001391</td>\n",
       "      <td>-0.030038</td>\n",
       "      <td>-0.008093</td>\n",
       "      <td>0.021785</td>\n",
       "      <td>-0.070101</td>\n",
       "      <td>-0.058990</td>\n",
       "      <td>-0.066793</td>\n",
       "      <td>-0.001944</td>\n",
       "      <td>-0.003191</td>\n",
       "      <td>...</td>\n",
       "      <td>0.207564</td>\n",
       "      <td>0.181246</td>\n",
       "      <td>0.172663</td>\n",
       "      <td>0.285576</td>\n",
       "      <td>1.000000</td>\n",
       "      <td>0.244770</td>\n",
       "      <td>0.180107</td>\n",
       "      <td>0.180908</td>\n",
       "      <td>0.157634</td>\n",
       "      <td>-0.058579</td>\n",
       "    </tr>\n",
       "    <tr>\n",
       "      <td>PAY_AMT3</td>\n",
       "      <td>0.210167</td>\n",
       "      <td>-0.008597</td>\n",
       "      <td>-0.039943</td>\n",
       "      <td>-0.003541</td>\n",
       "      <td>0.029247</td>\n",
       "      <td>-0.070561</td>\n",
       "      <td>-0.055901</td>\n",
       "      <td>-0.053311</td>\n",
       "      <td>-0.069235</td>\n",
       "      <td>0.009062</td>\n",
       "      <td>...</td>\n",
       "      <td>0.300023</td>\n",
       "      <td>0.252305</td>\n",
       "      <td>0.233770</td>\n",
       "      <td>0.252191</td>\n",
       "      <td>0.244770</td>\n",
       "      <td>1.000000</td>\n",
       "      <td>0.216325</td>\n",
       "      <td>0.159214</td>\n",
       "      <td>0.162740</td>\n",
       "      <td>-0.056250</td>\n",
       "    </tr>\n",
       "    <tr>\n",
       "      <td>PAY_AMT4</td>\n",
       "      <td>0.203242</td>\n",
       "      <td>-0.002229</td>\n",
       "      <td>-0.038218</td>\n",
       "      <td>-0.012659</td>\n",
       "      <td>0.021379</td>\n",
       "      <td>-0.064005</td>\n",
       "      <td>-0.046858</td>\n",
       "      <td>-0.046067</td>\n",
       "      <td>-0.043461</td>\n",
       "      <td>-0.058299</td>\n",
       "      <td>...</td>\n",
       "      <td>0.130191</td>\n",
       "      <td>0.293118</td>\n",
       "      <td>0.250237</td>\n",
       "      <td>0.199558</td>\n",
       "      <td>0.180107</td>\n",
       "      <td>0.216325</td>\n",
       "      <td>1.000000</td>\n",
       "      <td>0.151830</td>\n",
       "      <td>0.157834</td>\n",
       "      <td>-0.056827</td>\n",
       "    </tr>\n",
       "    <tr>\n",
       "      <td>PAY_AMT5</td>\n",
       "      <td>0.217202</td>\n",
       "      <td>-0.001667</td>\n",
       "      <td>-0.040358</td>\n",
       "      <td>-0.001205</td>\n",
       "      <td>0.022850</td>\n",
       "      <td>-0.058190</td>\n",
       "      <td>-0.037093</td>\n",
       "      <td>-0.035863</td>\n",
       "      <td>-0.033590</td>\n",
       "      <td>-0.033337</td>\n",
       "      <td>...</td>\n",
       "      <td>0.160433</td>\n",
       "      <td>0.141574</td>\n",
       "      <td>0.307729</td>\n",
       "      <td>0.148459</td>\n",
       "      <td>0.180908</td>\n",
       "      <td>0.159214</td>\n",
       "      <td>0.151830</td>\n",
       "      <td>1.000000</td>\n",
       "      <td>0.154896</td>\n",
       "      <td>-0.055124</td>\n",
       "    </tr>\n",
       "    <tr>\n",
       "      <td>PAY_AMT6</td>\n",
       "      <td>0.219595</td>\n",
       "      <td>-0.002766</td>\n",
       "      <td>-0.037200</td>\n",
       "      <td>-0.006641</td>\n",
       "      <td>0.019478</td>\n",
       "      <td>-0.058673</td>\n",
       "      <td>-0.036500</td>\n",
       "      <td>-0.035861</td>\n",
       "      <td>-0.026565</td>\n",
       "      <td>-0.023027</td>\n",
       "      <td>...</td>\n",
       "      <td>0.177637</td>\n",
       "      <td>0.164184</td>\n",
       "      <td>0.115494</td>\n",
       "      <td>0.185735</td>\n",
       "      <td>0.157634</td>\n",
       "      <td>0.162740</td>\n",
       "      <td>0.157834</td>\n",
       "      <td>0.154896</td>\n",
       "      <td>1.000000</td>\n",
       "      <td>-0.053183</td>\n",
       "    </tr>\n",
       "    <tr>\n",
       "      <td>default payment next month</td>\n",
       "      <td>-0.153520</td>\n",
       "      <td>-0.039961</td>\n",
       "      <td>0.028006</td>\n",
       "      <td>-0.024339</td>\n",
       "      <td>0.013890</td>\n",
       "      <td>0.324794</td>\n",
       "      <td>0.263551</td>\n",
       "      <td>0.235253</td>\n",
       "      <td>0.216614</td>\n",
       "      <td>0.204149</td>\n",
       "      <td>...</td>\n",
       "      <td>-0.010156</td>\n",
       "      <td>-0.006760</td>\n",
       "      <td>-0.005372</td>\n",
       "      <td>-0.072929</td>\n",
       "      <td>-0.058579</td>\n",
       "      <td>-0.056250</td>\n",
       "      <td>-0.056827</td>\n",
       "      <td>-0.055124</td>\n",
       "      <td>-0.053183</td>\n",
       "      <td>1.000000</td>\n",
       "    </tr>\n",
       "  </tbody>\n",
       "</table>\n",
       "<p>24 rows × 24 columns</p>\n",
       "</div>"
      ],
      "text/plain": [
       "                            LIMIT_BAL       SEX  EDUCATION  MARRIAGE  \\\n",
       "LIMIT_BAL                    1.000000  0.024755  -0.219161 -0.108139   \n",
       "SEX                          0.024755  1.000000   0.014232 -0.031389   \n",
       "EDUCATION                   -0.219161  0.014232   1.000000 -0.143464   \n",
       "MARRIAGE                    -0.108139 -0.031389  -0.143464  1.000000   \n",
       "AGE                          0.144713 -0.090874   0.175061 -0.414170   \n",
       "PAY_0                       -0.271214 -0.057643   0.105364  0.019917   \n",
       "PAY_2                       -0.296382 -0.070771   0.121566  0.024199   \n",
       "PAY_3                       -0.286123 -0.066096   0.114025  0.032688   \n",
       "PAY_4                       -0.267460 -0.060173   0.108793  0.033122   \n",
       "PAY_5                       -0.249411 -0.055064   0.097520  0.035629   \n",
       "PAY_6                       -0.235195 -0.044008   0.082316  0.034345   \n",
       "BILL_AMT1                    0.285430 -0.033642   0.023581 -0.023472   \n",
       "BILL_AMT2                    0.278314 -0.031183   0.018749 -0.021602   \n",
       "BILL_AMT3                    0.283236 -0.024563   0.013002 -0.024909   \n",
       "BILL_AMT4                    0.293988 -0.021880  -0.000451 -0.023344   \n",
       "BILL_AMT5                    0.295562 -0.017005  -0.007567 -0.025393   \n",
       "BILL_AMT6                    0.290389 -0.016733  -0.009099 -0.021207   \n",
       "PAY_AMT1                     0.195236 -0.000242  -0.037456 -0.005979   \n",
       "PAY_AMT2                     0.178408 -0.001391  -0.030038 -0.008093   \n",
       "PAY_AMT3                     0.210167 -0.008597  -0.039943 -0.003541   \n",
       "PAY_AMT4                     0.203242 -0.002229  -0.038218 -0.012659   \n",
       "PAY_AMT5                     0.217202 -0.001667  -0.040358 -0.001205   \n",
       "PAY_AMT6                     0.219595 -0.002766  -0.037200 -0.006641   \n",
       "default payment next month  -0.153520 -0.039961   0.028006 -0.024339   \n",
       "\n",
       "                                 AGE     PAY_0     PAY_2     PAY_3     PAY_4  \\\n",
       "LIMIT_BAL                   0.144713 -0.271214 -0.296382 -0.286123 -0.267460   \n",
       "SEX                        -0.090874 -0.057643 -0.070771 -0.066096 -0.060173   \n",
       "EDUCATION                   0.175061  0.105364  0.121566  0.114025  0.108793   \n",
       "MARRIAGE                   -0.414170  0.019917  0.024199  0.032688  0.033122   \n",
       "AGE                         1.000000 -0.039447 -0.050148 -0.053048 -0.049722   \n",
       "PAY_0                      -0.039447  1.000000  0.672164  0.574245  0.538841   \n",
       "PAY_2                      -0.050148  0.672164  1.000000  0.766552  0.662067   \n",
       "PAY_3                      -0.053048  0.574245  0.766552  1.000000  0.777359   \n",
       "PAY_4                      -0.049722  0.538841  0.662067  0.777359  1.000000   \n",
       "PAY_5                      -0.053826  0.509426  0.622780  0.686775  0.819835   \n",
       "PAY_6                      -0.048773  0.474553  0.575501  0.632684  0.716449   \n",
       "BILL_AMT1                   0.056239  0.187068  0.234887  0.208473  0.202812   \n",
       "BILL_AMT2                   0.054283  0.189859  0.235257  0.237295  0.225816   \n",
       "BILL_AMT3                   0.053710  0.179785  0.224146  0.227494  0.244983   \n",
       "BILL_AMT4                   0.051353  0.179125  0.222237  0.227202  0.245917   \n",
       "BILL_AMT5                   0.049345  0.180635  0.221348  0.225145  0.242902   \n",
       "BILL_AMT6                   0.047613  0.176980  0.219403  0.222327  0.239154   \n",
       "PAY_AMT1                    0.026147 -0.079269 -0.080701  0.001295 -0.009362   \n",
       "PAY_AMT2                    0.021785 -0.070101 -0.058990 -0.066793 -0.001944   \n",
       "PAY_AMT3                    0.029247 -0.070561 -0.055901 -0.053311 -0.069235   \n",
       "PAY_AMT4                    0.021379 -0.064005 -0.046858 -0.046067 -0.043461   \n",
       "PAY_AMT5                    0.022850 -0.058190 -0.037093 -0.035863 -0.033590   \n",
       "PAY_AMT6                    0.019478 -0.058673 -0.036500 -0.035861 -0.026565   \n",
       "default payment next month  0.013890  0.324794  0.263551  0.235253  0.216614   \n",
       "\n",
       "                               PAY_5  ...  BILL_AMT4  BILL_AMT5  BILL_AMT6  \\\n",
       "LIMIT_BAL                  -0.249411  ...   0.293988   0.295562   0.290389   \n",
       "SEX                        -0.055064  ...  -0.021880  -0.017005  -0.016733   \n",
       "EDUCATION                   0.097520  ...  -0.000451  -0.007567  -0.009099   \n",
       "MARRIAGE                    0.035629  ...  -0.023344  -0.025393  -0.021207   \n",
       "AGE                        -0.053826  ...   0.051353   0.049345   0.047613   \n",
       "PAY_0                       0.509426  ...   0.179125   0.180635   0.176980   \n",
       "PAY_2                       0.622780  ...   0.222237   0.221348   0.219403   \n",
       "PAY_3                       0.686775  ...   0.227202   0.225145   0.222327   \n",
       "PAY_4                       0.819835  ...   0.245917   0.242902   0.239154   \n",
       "PAY_5                       1.000000  ...   0.271915   0.269783   0.262509   \n",
       "PAY_6                       0.816900  ...   0.266356   0.290894   0.285091   \n",
       "BILL_AMT1                   0.206684  ...   0.860272   0.829779   0.802650   \n",
       "BILL_AMT2                   0.226913  ...   0.892482   0.859778   0.831594   \n",
       "BILL_AMT3                   0.243335  ...   0.923969   0.883910   0.853320   \n",
       "BILL_AMT4                   0.271915  ...   1.000000   0.940134   0.900941   \n",
       "BILL_AMT5                   0.269783  ...   0.940134   1.000000   0.946197   \n",
       "BILL_AMT6                   0.262509  ...   0.900941   0.946197   1.000000   \n",
       "PAY_AMT1                   -0.006089  ...   0.233012   0.217031   0.199965   \n",
       "PAY_AMT2                   -0.003191  ...   0.207564   0.181246   0.172663   \n",
       "PAY_AMT3                    0.009062  ...   0.300023   0.252305   0.233770   \n",
       "PAY_AMT4                   -0.058299  ...   0.130191   0.293118   0.250237   \n",
       "PAY_AMT5                   -0.033337  ...   0.160433   0.141574   0.307729   \n",
       "PAY_AMT6                   -0.023027  ...   0.177637   0.164184   0.115494   \n",
       "default payment next month  0.204149  ...  -0.010156  -0.006760  -0.005372   \n",
       "\n",
       "                            PAY_AMT1  PAY_AMT2  PAY_AMT3  PAY_AMT4  PAY_AMT5  \\\n",
       "LIMIT_BAL                   0.195236  0.178408  0.210167  0.203242  0.217202   \n",
       "SEX                        -0.000242 -0.001391 -0.008597 -0.002229 -0.001667   \n",
       "EDUCATION                  -0.037456 -0.030038 -0.039943 -0.038218 -0.040358   \n",
       "MARRIAGE                   -0.005979 -0.008093 -0.003541 -0.012659 -0.001205   \n",
       "AGE                         0.026147  0.021785  0.029247  0.021379  0.022850   \n",
       "PAY_0                      -0.079269 -0.070101 -0.070561 -0.064005 -0.058190   \n",
       "PAY_2                      -0.080701 -0.058990 -0.055901 -0.046858 -0.037093   \n",
       "PAY_3                       0.001295 -0.066793 -0.053311 -0.046067 -0.035863   \n",
       "PAY_4                      -0.009362 -0.001944 -0.069235 -0.043461 -0.033590   \n",
       "PAY_5                      -0.006089 -0.003191  0.009062 -0.058299 -0.033337   \n",
       "PAY_6                      -0.001496 -0.005223  0.005834  0.019018 -0.046434   \n",
       "BILL_AMT1                   0.140277  0.099355  0.156887  0.158303  0.167026   \n",
       "BILL_AMT2                   0.280365  0.100851  0.150718  0.147398  0.157957   \n",
       "BILL_AMT3                   0.244335  0.316936  0.130011  0.143405  0.179712   \n",
       "BILL_AMT4                   0.233012  0.207564  0.300023  0.130191  0.160433   \n",
       "BILL_AMT5                   0.217031  0.181246  0.252305  0.293118  0.141574   \n",
       "BILL_AMT6                   0.199965  0.172663  0.233770  0.250237  0.307729   \n",
       "PAY_AMT1                    1.000000  0.285576  0.252191  0.199558  0.148459   \n",
       "PAY_AMT2                    0.285576  1.000000  0.244770  0.180107  0.180908   \n",
       "PAY_AMT3                    0.252191  0.244770  1.000000  0.216325  0.159214   \n",
       "PAY_AMT4                    0.199558  0.180107  0.216325  1.000000  0.151830   \n",
       "PAY_AMT5                    0.148459  0.180908  0.159214  0.151830  1.000000   \n",
       "PAY_AMT6                    0.185735  0.157634  0.162740  0.157834  0.154896   \n",
       "default payment next month -0.072929 -0.058579 -0.056250 -0.056827 -0.055124   \n",
       "\n",
       "                            PAY_AMT6  default payment next month  \n",
       "LIMIT_BAL                   0.219595                   -0.153520  \n",
       "SEX                        -0.002766                   -0.039961  \n",
       "EDUCATION                  -0.037200                    0.028006  \n",
       "MARRIAGE                   -0.006641                   -0.024339  \n",
       "AGE                         0.019478                    0.013890  \n",
       "PAY_0                      -0.058673                    0.324794  \n",
       "PAY_2                      -0.036500                    0.263551  \n",
       "PAY_3                      -0.035861                    0.235253  \n",
       "PAY_4                      -0.026565                    0.216614  \n",
       "PAY_5                      -0.023027                    0.204149  \n",
       "PAY_6                      -0.025299                    0.186866  \n",
       "BILL_AMT1                   0.179341                   -0.019644  \n",
       "BILL_AMT2                   0.174256                   -0.014193  \n",
       "BILL_AMT3                   0.182326                   -0.014076  \n",
       "BILL_AMT4                   0.177637                   -0.010156  \n",
       "BILL_AMT5                   0.164184                   -0.006760  \n",
       "BILL_AMT6                   0.115494                   -0.005372  \n",
       "PAY_AMT1                    0.185735                   -0.072929  \n",
       "PAY_AMT2                    0.157634                   -0.058579  \n",
       "PAY_AMT3                    0.162740                   -0.056250  \n",
       "PAY_AMT4                    0.157834                   -0.056827  \n",
       "PAY_AMT5                    0.154896                   -0.055124  \n",
       "PAY_AMT6                    1.000000                   -0.053183  \n",
       "default payment next month -0.053183                    1.000000  \n",
       "\n",
       "[24 rows x 24 columns]"
      ]
     },
     "execution_count": 15,
     "metadata": {},
     "output_type": "execute_result"
    }
   ],
   "source": [
    "credit_card_default.corr()"
   ]
  },
  {
   "cell_type": "code",
   "execution_count": 16,
   "metadata": {},
   "outputs": [
    {
     "data": {
      "text/plain": [
       "<matplotlib.axes._subplots.AxesSubplot at 0x7fab76dbb390>"
      ]
     },
     "execution_count": 16,
     "metadata": {},
     "output_type": "execute_result"
    }
   ],
   "source": [
    "import seaborn as sns\n",
    "import matplotlib.style as style\n",
    "style.use(\"fivethirtyeight\")\n",
    "\n",
    "sns.heatmap(credit_card_default.corr())"
   ]
  },
  {
   "cell_type": "code",
   "execution_count": 17,
   "metadata": {},
   "outputs": [
    {
     "data": {
      "text/plain": [
       "LIMIT_BAL                    -0.153520\n",
       "SEX                          -0.039961\n",
       "EDUCATION                     0.028006\n",
       "MARRIAGE                     -0.024339\n",
       "AGE                           0.013890\n",
       "PAY_0                         0.324794\n",
       "PAY_2                         0.263551\n",
       "PAY_3                         0.235253\n",
       "PAY_4                         0.216614\n",
       "PAY_5                         0.204149\n",
       "PAY_6                         0.186866\n",
       "BILL_AMT1                    -0.019644\n",
       "BILL_AMT2                    -0.014193\n",
       "BILL_AMT3                    -0.014076\n",
       "BILL_AMT4                    -0.010156\n",
       "BILL_AMT5                    -0.006760\n",
       "BILL_AMT6                    -0.005372\n",
       "PAY_AMT1                     -0.072929\n",
       "PAY_AMT2                     -0.058579\n",
       "PAY_AMT3                     -0.056250\n",
       "PAY_AMT4                     -0.056827\n",
       "PAY_AMT5                     -0.055124\n",
       "PAY_AMT6                     -0.053183\n",
       "default payment next month    1.000000\n",
       "Name: default payment next month, dtype: float64"
      ]
     },
     "execution_count": 17,
     "metadata": {},
     "output_type": "execute_result"
    }
   ],
   "source": [
    "credit_card_default.corr()[\"default payment next month\"]"
   ]
  },
  {
   "cell_type": "code",
   "execution_count": 18,
   "metadata": {},
   "outputs": [
    {
     "data": {
      "text/plain": [
       "LIMIT_BAL                     False\n",
       "SEX                           False\n",
       "EDUCATION                     False\n",
       "MARRIAGE                      False\n",
       "AGE                           False\n",
       "PAY_0                          True\n",
       "PAY_2                          True\n",
       "PAY_3                          True\n",
       "PAY_4                          True\n",
       "PAY_5                          True\n",
       "PAY_6                         False\n",
       "BILL_AMT1                     False\n",
       "BILL_AMT2                     False\n",
       "BILL_AMT3                     False\n",
       "BILL_AMT4                     False\n",
       "BILL_AMT5                     False\n",
       "BILL_AMT6                     False\n",
       "PAY_AMT1                      False\n",
       "PAY_AMT2                      False\n",
       "PAY_AMT3                      False\n",
       "PAY_AMT4                      False\n",
       "PAY_AMT5                      False\n",
       "PAY_AMT6                      False\n",
       "default payment next month     True\n",
       "Name: default payment next month, dtype: bool"
      ]
     },
     "execution_count": 18,
     "metadata": {},
     "output_type": "execute_result"
    }
   ],
   "source": [
    "credit_card_default.corr()[\"default payment next month\"].abs() > .2"
   ]
  },
  {
   "cell_type": "code",
   "execution_count": 19,
   "metadata": {},
   "outputs": [
    {
     "data": {
      "text/plain": [
       "Index(['PAY_0', 'PAY_2', 'PAY_3', 'PAY_4', 'PAY_5',\n",
       "       'default payment next month'],\n",
       "      dtype='object')"
      ]
     },
     "execution_count": 19,
     "metadata": {},
     "output_type": "execute_result"
    }
   ],
   "source": [
    "# 存储特征\n",
    "highly_correlated_features = \\\n",
    "credit_card_default.columns[credit_card_default.corr()[\"default payment next month\"].abs() > .2]\n",
    "\n",
    "highly_correlated_features"
   ]
  },
  {
   "cell_type": "code",
   "execution_count": 20,
   "metadata": {},
   "outputs": [
    {
     "data": {
      "text/plain": [
       "Index(['PAY_0', 'PAY_2', 'PAY_3', 'PAY_4', 'PAY_5'], dtype='object')"
      ]
     },
     "execution_count": 20,
     "metadata": {},
     "output_type": "execute_result"
    }
   ],
   "source": [
    "# 删掉响应变量\n",
    "highly_correlated_features = highly_correlated_features.drop(\"default payment next month\")\n",
    "highly_correlated_features"
   ]
  },
  {
   "cell_type": "code",
   "execution_count": 21,
   "metadata": {},
   "outputs": [
    {
     "name": "stdout",
     "output_type": "stream",
     "text": [
      "Best Accuracy: 0.8196666666666667\n",
      "Best Parameters: {'max_depth': 3}\n",
      "Average Time to Fit (s):0.007\n",
      "Average Time to Score (s):0.002\n"
     ]
    }
   ],
   "source": [
    "# 只有5个高度关联的变量\n",
    "X_subsetted = credit_card_default[highly_correlated_features]\n",
    "\n",
    "get_best_model_and_accuracy(d_tree, tree_params, X_subsetted, y)\n",
    "# 略差一点，但是拟合快了约20倍"
   ]
  },
  {
   "cell_type": "code",
   "execution_count": 22,
   "metadata": {},
   "outputs": [],
   "source": [
    "# 相関係数高い変数選択変換器\n",
    "from sklearn.base import TransformerMixin, BaseEstimator\n",
    "\n",
    "class CustomCorrelationChooser(TransformerMixin, BaseEstimator):\n",
    "    def __init__(self, response, cols_to_keep=[], threshold=None):\n",
    "        # 保存响应变量\n",
    "        self.response = response\n",
    "        # 保存阈值\n",
    "        self.threshold = threshold\n",
    "        # 初始化一个变量，存放要保留的特征名\n",
    "        self.cols_to_keep = cols_to_keep\n",
    "    def transform(self, X):\n",
    "        # 转换会选择合适的列\n",
    "        return X[self.cols_to_keep]\n",
    "    \n",
    "    def fit(self, X, *_):\n",
    "        # 创建新的DataFrame，存放特征和响应\n",
    "        df = pd.concat([X, self.response], axis=1)\n",
    "        # 保存高于阈值的列的名称\n",
    "        self.cols_to_keep = df.columns[df.corr()[df.columns[-1]].abs() > self.threshold]\n",
    "        # 只保留 X 的列，删掉响应变量\n",
    "        self.cols_to_keep = [c for c in self.cols_to_keep if c in X.columns]\n",
    "        return self"
   ]
  },
  {
   "cell_type": "code",
   "execution_count": 23,
   "metadata": {},
   "outputs": [
    {
     "data": {
      "text/plain": [
       "['PAY_0', 'PAY_2', 'PAY_3', 'PAY_4', 'PAY_5']"
      ]
     },
     "execution_count": 23,
     "metadata": {},
     "output_type": "execute_result"
    }
   ],
   "source": [
    "ccc = CustomCorrelationChooser(threshold=.2, response=y)\n",
    "ccc.fit(X)\n",
    "ccc.cols_to_keep"
   ]
  },
  {
   "cell_type": "code",
   "execution_count": 24,
   "metadata": {
    "scrolled": true
   },
   "outputs": [
    {
     "data": {
      "text/html": [
       "<div>\n",
       "<style scoped>\n",
       "    .dataframe tbody tr th:only-of-type {\n",
       "        vertical-align: middle;\n",
       "    }\n",
       "\n",
       "    .dataframe tbody tr th {\n",
       "        vertical-align: top;\n",
       "    }\n",
       "\n",
       "    .dataframe thead th {\n",
       "        text-align: right;\n",
       "    }\n",
       "</style>\n",
       "<table border=\"1\" class=\"dataframe\">\n",
       "  <thead>\n",
       "    <tr style=\"text-align: right;\">\n",
       "      <th></th>\n",
       "      <th>PAY_0</th>\n",
       "      <th>PAY_2</th>\n",
       "      <th>PAY_3</th>\n",
       "      <th>PAY_4</th>\n",
       "      <th>PAY_5</th>\n",
       "    </tr>\n",
       "  </thead>\n",
       "  <tbody>\n",
       "    <tr>\n",
       "      <td>0</td>\n",
       "      <td>2</td>\n",
       "      <td>2</td>\n",
       "      <td>-1</td>\n",
       "      <td>-1</td>\n",
       "      <td>-2</td>\n",
       "    </tr>\n",
       "    <tr>\n",
       "      <td>1</td>\n",
       "      <td>-1</td>\n",
       "      <td>2</td>\n",
       "      <td>0</td>\n",
       "      <td>0</td>\n",
       "      <td>0</td>\n",
       "    </tr>\n",
       "    <tr>\n",
       "      <td>2</td>\n",
       "      <td>0</td>\n",
       "      <td>0</td>\n",
       "      <td>0</td>\n",
       "      <td>0</td>\n",
       "      <td>0</td>\n",
       "    </tr>\n",
       "    <tr>\n",
       "      <td>3</td>\n",
       "      <td>0</td>\n",
       "      <td>0</td>\n",
       "      <td>0</td>\n",
       "      <td>0</td>\n",
       "      <td>0</td>\n",
       "    </tr>\n",
       "    <tr>\n",
       "      <td>4</td>\n",
       "      <td>-1</td>\n",
       "      <td>0</td>\n",
       "      <td>-1</td>\n",
       "      <td>0</td>\n",
       "      <td>0</td>\n",
       "    </tr>\n",
       "  </tbody>\n",
       "</table>\n",
       "</div>"
      ],
      "text/plain": [
       "   PAY_0  PAY_2  PAY_3  PAY_4  PAY_5\n",
       "0      2      2     -1     -1     -2\n",
       "1     -1      2      0      0      0\n",
       "2      0      0      0      0      0\n",
       "3      0      0      0      0      0\n",
       "4     -1      0     -1      0      0"
      ]
     },
     "execution_count": 24,
     "metadata": {},
     "output_type": "execute_result"
    }
   ],
   "source": [
    "ccc.transform(X).head()"
   ]
  },
  {
   "cell_type": "code",
   "execution_count": 25,
   "metadata": {},
   "outputs": [
    {
     "name": "stdout",
     "output_type": "stream",
     "text": [
      "{'classifier__max_depth': [None, 1, 3, 5, 7, 9, 11, 13, 15, 17, 19, 21], 'correlation_select__threshold': [0, 0.1, 0.2, 0.3]}\n"
     ]
    }
   ],
   "source": [
    "from copy import deepcopy\n",
    "\n",
    "# 使用响应变量初始化特征选择器\n",
    "ccc = CustomCorrelationChooser(response=y)\n",
    "# 创建流水线，包括选择器\n",
    "ccc_pipe = Pipeline([('correlation_select', ccc),\n",
    "                         ('classifier', d_tree)])\n",
    "\n",
    "tree_pipe_params = {'classifier__max_depth': [None, 1, 3, 5, 7, 9, 11, 13, 15, 17, 19, 21]}\n",
    "# 复制决策树的参数\n",
    "ccc_pipe_params = deepcopy(tree_pipe_params)\n",
    "# 更新决策树的参数选择 \n",
    "ccc_pipe_params.update({'correlation_select__threshold':[0, .1, .2, .3]})\n",
    "print(ccc_pipe_params) "
   ]
  },
  {
   "cell_type": "code",
   "execution_count": 26,
   "metadata": {},
   "outputs": [
    {
     "name": "stdout",
     "output_type": "stream",
     "text": [
      "Best Accuracy: 0.8206\n",
      "Best Parameters: {'classifier__max_depth': 5, 'correlation_select__threshold': 0.1}\n",
      "Average Time to Fit (s):0.089\n",
      "Average Time to Score (s):0.003\n"
     ]
    }
   ],
   "source": [
    "# 比原来好一点，而且很快\n",
    "get_best_model_and_accuracy(ccc_pipe, ccc_pipe_params, X, y)"
   ]
  },
  {
   "cell_type": "code",
   "execution_count": 27,
   "metadata": {},
   "outputs": [
    {
     "data": {
      "text/plain": [
       "['LIMIT_BAL', 'PAY_0', 'PAY_2', 'PAY_3', 'PAY_4', 'PAY_5', 'PAY_6']"
      ]
     },
     "execution_count": 27,
     "metadata": {},
     "output_type": "execute_result"
    }
   ],
   "source": [
    "ccc = CustomCorrelationChooser(threshold=.1, response=y)\n",
    "ccc.fit(X)\n",
    "ccc.cols_to_keep"
   ]
  },
  {
   "cell_type": "markdown",
   "metadata": {},
   "source": [
    "#### 2. 使用假设检验"
   ]
  },
  {
   "cell_type": "code",
   "execution_count": 28,
   "metadata": {},
   "outputs": [],
   "source": [
    "# SelectKBest 在给定目标函数后选择 k 个最高分\n",
    "from sklearn.feature_selection import SelectKBest\n",
    "# ANOVA 测试\n",
    "from sklearn.feature_selection import f_classif\n",
    "# from sklearn.feature_selection import chi2\n",
    "\n",
    "# f_classif 可以使用负数，但不是所有类都支持 \n",
    "# chi2(卡方)也很常用，但只支持正数\n",
    "# 回归分析有自己的假设检验"
   ]
  },
  {
   "cell_type": "code",
   "execution_count": 29,
   "metadata": {
    "scrolled": false
   },
   "outputs": [
    {
     "name": "stdout",
     "output_type": "stream",
     "text": [
      "LIMIT_BAL : [  20000  120000   90000   50000  500000  100000  140000  200000  260000\n",
      "  630000   70000  250000  320000  360000  180000  130000  450000   60000\n",
      "  230000  160000  280000   10000   40000  210000  150000  380000  310000\n",
      "  400000   80000  290000  340000  300000   30000  240000  470000  480000\n",
      "  350000  330000  110000  420000  170000  370000  270000  220000  190000\n",
      "  510000  460000  440000  410000  490000  390000  580000  600000  620000\n",
      "  610000  700000  670000  680000  430000  550000  540000 1000000  530000\n",
      "  710000  560000  520000  750000  640000   16000  570000  590000  660000\n",
      "  720000  327680  740000  800000  760000  690000  650000  780000  730000], 累計81\n",
      "SEX : [2 1], 累計2\n",
      "EDUCATION : [2 1 3 5 4 6 0], 累計7\n",
      "MARRIAGE : [1 2 3 0], 累計4\n",
      "AGE : [24 26 34 37 57 29 23 28 35 51 41 30 49 39 40 27 47 33 32 54 58 22 25 31\n",
      " 46 42 43 45 56 44 53 38 63 36 52 48 55 60 50 75 61 73 59 21 67 66 62 70\n",
      " 72 64 65 71 69 68 79 74], 累計56\n",
      "PAY_0 : [ 2 -1  0 -2  1  3  4  8  7  5  6], 累計11\n",
      "PAY_2 : [ 2  0 -1 -2  3  5  7  4  1  6  8], 累計11\n",
      "PAY_3 : [-1  0  2 -2  3  4  6  7  1  5  8], 累計11\n",
      "PAY_4 : [-1  0 -2  2  3  4  5  7  6  1  8], 累計11\n",
      "PAY_5 : [-2  0 -1  2  3  5  4  7  8  6], 累計10\n",
      "PAY_6 : [-2  2  0 -1  3  6  4  7  8  5], 累計10\n",
      "BILL_AMT1 : [ 3913  2682 29239 ...  1683 -1645 47929], 累計22723\n",
      "BILL_AMT2 : [ 3102  1725 14027 ...  3356 78379 48905], 累計22346\n",
      "BILL_AMT3 : [  689  2682 13559 ...  2758 76304 49764], 累計22026\n",
      "BILL_AMT4 : [    0  3272 14331 ... 20878 52774 36535], 累計21548\n",
      "BILL_AMT5 : [    0  3455 14948 ... 31237  5190 32428], 累計21010\n",
      "BILL_AMT6 : [    0  3261 15549 ... 19357 48944 15313], 累計20604\n",
      "PAY_AMT1 : [    0  1518  2000 ... 10029  9054 85900], 累計7943\n",
      "PAY_AMT2 : [   689   1000   1500 ...   2977 111784   3526], 累計7899\n",
      "PAY_AMT3 : [     0   1000   1200 ... 349395   8907  25128], 累計7518\n",
      "PAY_AMT4 : [    0  1000  1100 ...  2556 10115  8049], 累計6937\n",
      "PAY_AMT5 : [    0  1000  1069 ...  8040  3319 52964], 累計6897\n",
      "PAY_AMT6 : [     0   2000   5000 ...  70052 220076  16080], 累計6939\n"
     ]
    }
   ],
   "source": [
    "for col in X.columns:\n",
    "    print(f\"{col} : {X[col].unique()}, 累計{len(X[col].unique())}\")\n",
    "#PAY开头的是定类变量，BILL开头为定量变量"
   ]
  },
  {
   "cell_type": "code",
   "execution_count": 30,
   "metadata": {},
   "outputs": [
    {
     "data": {
      "text/plain": [
       "array([[ 2,  2, -1, -1, -2],\n",
       "       [-1,  2,  0,  0,  0],\n",
       "       [ 0,  0,  0,  0,  0],\n",
       "       ...,\n",
       "       [ 4,  3,  2, -1,  0],\n",
       "       [ 1, -1,  0,  0,  0],\n",
       "       [ 0,  0,  0,  0,  0]])"
      ]
     },
     "execution_count": 30,
     "metadata": {},
     "output_type": "execute_result"
    }
   ],
   "source": [
    "# 只保留最佳的 5 个特征\n",
    "k_best = SelectKBest(f_classif, k=5)\n",
    "\n",
    "# 选择最佳特征后的矩阵\n",
    "k_best.fit_transform(X, y)"
   ]
  },
  {
   "cell_type": "code",
   "execution_count": 31,
   "metadata": {},
   "outputs": [
    {
     "data": {
      "text/plain": [
       "array([1.30224395e-157, 4.39524880e-012, 1.22503803e-006, 2.48536389e-005,\n",
       "       1.61368459e-002, 0.00000000e+000, 0.00000000e+000, 0.00000000e+000,\n",
       "       1.89929659e-315, 1.12660795e-279, 7.29674048e-234, 6.67329549e-004,\n",
       "       1.39573624e-002, 1.47699827e-002, 7.85556416e-002, 2.41634443e-001,\n",
       "       3.52122521e-001, 1.14648761e-036, 3.16665676e-024, 1.84177029e-022,\n",
       "       6.83094160e-023, 1.24134477e-021, 3.03358907e-020])"
      ]
     },
     "execution_count": 31,
     "metadata": {},
     "output_type": "execute_result"
    }
   ],
   "source": [
    "# 取列的p值\n",
    "k_best.pvalues_"
   ]
  },
  {
   "cell_type": "code",
   "execution_count": 32,
   "metadata": {},
   "outputs": [
    {
     "data": {
      "text/html": [
       "<div>\n",
       "<style scoped>\n",
       "    .dataframe tbody tr th:only-of-type {\n",
       "        vertical-align: middle;\n",
       "    }\n",
       "\n",
       "    .dataframe tbody tr th {\n",
       "        vertical-align: top;\n",
       "    }\n",
       "\n",
       "    .dataframe thead th {\n",
       "        text-align: right;\n",
       "    }\n",
       "</style>\n",
       "<table border=\"1\" class=\"dataframe\">\n",
       "  <thead>\n",
       "    <tr style=\"text-align: right;\">\n",
       "      <th></th>\n",
       "      <th>column</th>\n",
       "      <th>p_value</th>\n",
       "    </tr>\n",
       "  </thead>\n",
       "  <tbody>\n",
       "    <tr>\n",
       "      <td>5</td>\n",
       "      <td>PAY_0</td>\n",
       "      <td>0.000000e+00</td>\n",
       "    </tr>\n",
       "    <tr>\n",
       "      <td>6</td>\n",
       "      <td>PAY_2</td>\n",
       "      <td>0.000000e+00</td>\n",
       "    </tr>\n",
       "    <tr>\n",
       "      <td>7</td>\n",
       "      <td>PAY_3</td>\n",
       "      <td>0.000000e+00</td>\n",
       "    </tr>\n",
       "    <tr>\n",
       "      <td>8</td>\n",
       "      <td>PAY_4</td>\n",
       "      <td>1.899297e-315</td>\n",
       "    </tr>\n",
       "    <tr>\n",
       "      <td>9</td>\n",
       "      <td>PAY_5</td>\n",
       "      <td>1.126608e-279</td>\n",
       "    </tr>\n",
       "  </tbody>\n",
       "</table>\n",
       "</div>"
      ],
      "text/plain": [
       "  column        p_value\n",
       "5  PAY_0   0.000000e+00\n",
       "6  PAY_2   0.000000e+00\n",
       "7  PAY_3   0.000000e+00\n",
       "8  PAY_4  1.899297e-315\n",
       "9  PAY_5  1.126608e-279"
      ]
     },
     "execution_count": 32,
     "metadata": {},
     "output_type": "execute_result"
    }
   ],
   "source": [
    "# 特征和p值组成DataFrame\n",
    "# 按p值排列\n",
    "p_values = pd.DataFrame({\n",
    "    \"column\": X.columns,\n",
    "    \"p_value\": k_best.pvalues_,\n",
    "}).sort_values(\"p_value\")\n",
    "\n",
    "p_values.head()"
   ]
  },
  {
   "cell_type": "code",
   "execution_count": 33,
   "metadata": {
    "scrolled": false
   },
   "outputs": [
    {
     "data": {
      "text/html": [
       "<div>\n",
       "<style scoped>\n",
       "    .dataframe tbody tr th:only-of-type {\n",
       "        vertical-align: middle;\n",
       "    }\n",
       "\n",
       "    .dataframe tbody tr th {\n",
       "        vertical-align: top;\n",
       "    }\n",
       "\n",
       "    .dataframe thead th {\n",
       "        text-align: right;\n",
       "    }\n",
       "</style>\n",
       "<table border=\"1\" class=\"dataframe\">\n",
       "  <thead>\n",
       "    <tr style=\"text-align: right;\">\n",
       "      <th></th>\n",
       "      <th>column</th>\n",
       "      <th>p_value</th>\n",
       "    </tr>\n",
       "  </thead>\n",
       "  <tbody>\n",
       "    <tr>\n",
       "      <td>5</td>\n",
       "      <td>PAY_0</td>\n",
       "      <td>0.000000e+00</td>\n",
       "    </tr>\n",
       "    <tr>\n",
       "      <td>6</td>\n",
       "      <td>PAY_2</td>\n",
       "      <td>0.000000e+00</td>\n",
       "    </tr>\n",
       "    <tr>\n",
       "      <td>7</td>\n",
       "      <td>PAY_3</td>\n",
       "      <td>0.000000e+00</td>\n",
       "    </tr>\n",
       "    <tr>\n",
       "      <td>8</td>\n",
       "      <td>PAY_4</td>\n",
       "      <td>1.899297e-315</td>\n",
       "    </tr>\n",
       "    <tr>\n",
       "      <td>9</td>\n",
       "      <td>PAY_5</td>\n",
       "      <td>1.126608e-279</td>\n",
       "    </tr>\n",
       "    <tr>\n",
       "      <td>10</td>\n",
       "      <td>PAY_6</td>\n",
       "      <td>7.296740e-234</td>\n",
       "    </tr>\n",
       "    <tr>\n",
       "      <td>0</td>\n",
       "      <td>LIMIT_BAL</td>\n",
       "      <td>1.302244e-157</td>\n",
       "    </tr>\n",
       "    <tr>\n",
       "      <td>17</td>\n",
       "      <td>PAY_AMT1</td>\n",
       "      <td>1.146488e-36</td>\n",
       "    </tr>\n",
       "    <tr>\n",
       "      <td>18</td>\n",
       "      <td>PAY_AMT2</td>\n",
       "      <td>3.166657e-24</td>\n",
       "    </tr>\n",
       "    <tr>\n",
       "      <td>20</td>\n",
       "      <td>PAY_AMT4</td>\n",
       "      <td>6.830942e-23</td>\n",
       "    </tr>\n",
       "    <tr>\n",
       "      <td>19</td>\n",
       "      <td>PAY_AMT3</td>\n",
       "      <td>1.841770e-22</td>\n",
       "    </tr>\n",
       "    <tr>\n",
       "      <td>21</td>\n",
       "      <td>PAY_AMT5</td>\n",
       "      <td>1.241345e-21</td>\n",
       "    </tr>\n",
       "    <tr>\n",
       "      <td>22</td>\n",
       "      <td>PAY_AMT6</td>\n",
       "      <td>3.033589e-20</td>\n",
       "    </tr>\n",
       "    <tr>\n",
       "      <td>1</td>\n",
       "      <td>SEX</td>\n",
       "      <td>4.395249e-12</td>\n",
       "    </tr>\n",
       "    <tr>\n",
       "      <td>2</td>\n",
       "      <td>EDUCATION</td>\n",
       "      <td>1.225038e-06</td>\n",
       "    </tr>\n",
       "    <tr>\n",
       "      <td>3</td>\n",
       "      <td>MARRIAGE</td>\n",
       "      <td>2.485364e-05</td>\n",
       "    </tr>\n",
       "    <tr>\n",
       "      <td>11</td>\n",
       "      <td>BILL_AMT1</td>\n",
       "      <td>6.673295e-04</td>\n",
       "    </tr>\n",
       "    <tr>\n",
       "      <td>12</td>\n",
       "      <td>BILL_AMT2</td>\n",
       "      <td>1.395736e-02</td>\n",
       "    </tr>\n",
       "    <tr>\n",
       "      <td>13</td>\n",
       "      <td>BILL_AMT3</td>\n",
       "      <td>1.476998e-02</td>\n",
       "    </tr>\n",
       "    <tr>\n",
       "      <td>4</td>\n",
       "      <td>AGE</td>\n",
       "      <td>1.613685e-02</td>\n",
       "    </tr>\n",
       "  </tbody>\n",
       "</table>\n",
       "</div>"
      ],
      "text/plain": [
       "       column        p_value\n",
       "5       PAY_0   0.000000e+00\n",
       "6       PAY_2   0.000000e+00\n",
       "7       PAY_3   0.000000e+00\n",
       "8       PAY_4  1.899297e-315\n",
       "9       PAY_5  1.126608e-279\n",
       "10      PAY_6  7.296740e-234\n",
       "0   LIMIT_BAL  1.302244e-157\n",
       "17   PAY_AMT1   1.146488e-36\n",
       "18   PAY_AMT2   3.166657e-24\n",
       "20   PAY_AMT4   6.830942e-23\n",
       "19   PAY_AMT3   1.841770e-22\n",
       "21   PAY_AMT5   1.241345e-21\n",
       "22   PAY_AMT6   3.033589e-20\n",
       "1         SEX   4.395249e-12\n",
       "2   EDUCATION   1.225038e-06\n",
       "3    MARRIAGE   2.485364e-05\n",
       "11  BILL_AMT1   6.673295e-04\n",
       "12  BILL_AMT2   1.395736e-02\n",
       "13  BILL_AMT3   1.476998e-02\n",
       "4         AGE   1.613685e-02"
      ]
     },
     "execution_count": 33,
     "metadata": {},
     "output_type": "execute_result"
    }
   ],
   "source": [
    "# 低p值的特征\n",
    "p_values[p_values[\"p_value\"] < .05]"
   ]
  },
  {
   "cell_type": "markdown",
   "metadata": {},
   "source": [
    "大部分特征的p值都很低，但并不是全部。用下面的代码看看哪些列的p_value较高:"
   ]
  },
  {
   "cell_type": "code",
   "execution_count": 34,
   "metadata": {
    "scrolled": true
   },
   "outputs": [
    {
     "data": {
      "text/html": [
       "<div>\n",
       "<style scoped>\n",
       "    .dataframe tbody tr th:only-of-type {\n",
       "        vertical-align: middle;\n",
       "    }\n",
       "\n",
       "    .dataframe tbody tr th {\n",
       "        vertical-align: top;\n",
       "    }\n",
       "\n",
       "    .dataframe thead th {\n",
       "        text-align: right;\n",
       "    }\n",
       "</style>\n",
       "<table border=\"1\" class=\"dataframe\">\n",
       "  <thead>\n",
       "    <tr style=\"text-align: right;\">\n",
       "      <th></th>\n",
       "      <th>column</th>\n",
       "      <th>p_value</th>\n",
       "    </tr>\n",
       "  </thead>\n",
       "  <tbody>\n",
       "    <tr>\n",
       "      <td>14</td>\n",
       "      <td>BILL_AMT4</td>\n",
       "      <td>0.078556</td>\n",
       "    </tr>\n",
       "    <tr>\n",
       "      <td>15</td>\n",
       "      <td>BILL_AMT5</td>\n",
       "      <td>0.241634</td>\n",
       "    </tr>\n",
       "    <tr>\n",
       "      <td>16</td>\n",
       "      <td>BILL_AMT6</td>\n",
       "      <td>0.352123</td>\n",
       "    </tr>\n",
       "  </tbody>\n",
       "</table>\n",
       "</div>"
      ],
      "text/plain": [
       "       column   p_value\n",
       "14  BILL_AMT4  0.078556\n",
       "15  BILL_AMT5  0.241634\n",
       "16  BILL_AMT6  0.352123"
      ]
     },
     "execution_count": 34,
     "metadata": {},
     "output_type": "execute_result"
    }
   ],
   "source": [
    "# 高p值的特征\n",
    "p_values[p_values[\"p_value\"] >= .05]"
   ]
  },
  {
   "cell_type": "markdown",
   "metadata": {},
   "source": [
    "我们可以在流水线中应用 SelectKBest，看看是否效果更好:"
   ]
  },
  {
   "cell_type": "code",
   "execution_count": 35,
   "metadata": {},
   "outputs": [
    {
     "data": {
      "text/plain": [
       "23"
      ]
     },
     "execution_count": 35,
     "metadata": {},
     "output_type": "execute_result"
    }
   ],
   "source": [
    "# kの数を計算する\n",
    "len(X.columns)"
   ]
  },
  {
   "cell_type": "code",
   "execution_count": 36,
   "metadata": {},
   "outputs": [
    {
     "name": "stdout",
     "output_type": "stream",
     "text": [
      "{'classifier__max_depth': [None, 1, 3, 5, 7, 9, 11, 13, 15, 17, 19, 21], 'k_best__k': [1, 2, 3, 4, 5, 6, 7, 8, 9, 10, 11, 12, 13, 14, 15, 16, 17, 18, 19, 20, 21, 22, 'all']}\n"
     ]
    }
   ],
   "source": [
    "k_best = SelectKBest(f_classif)\n",
    "\n",
    "# 用 SelectKBest 建立流水线\n",
    "select_k_pipe = Pipeline([\n",
    "    (\"k_best\", k_best), (\"classifier\", d_tree)\n",
    "])\n",
    "select_k_pipe_params = deepcopy(tree_pipe_params)\n",
    "# all 没有作用\n",
    "select_k_pipe_params.update({\"k_best__k\": list(range(1, 23)) + [\"all\"]})\n",
    "\n",
    "print(select_k_pipe_params)"
   ]
  },
  {
   "cell_type": "code",
   "execution_count": 37,
   "metadata": {
    "scrolled": true
   },
   "outputs": [
    {
     "name": "stdout",
     "output_type": "stream",
     "text": [
      "Best Accuracy: 0.8206\n",
      "Best Parameters: {'classifier__max_depth': 5, 'k_best__k': 7}\n",
      "Average Time to Fit (s):0.098\n",
      "Average Time to Score (s):0.003\n"
     ]
    }
   ],
   "source": [
    "# 与相关特征选择器比较\n",
    "get_best_model_and_accuracy(select_k_pipe, select_k_pipe_params, X, y)"
   ]
  },
  {
   "cell_type": "markdown",
   "metadata": {},
   "source": [
    "SelectKBest模块和自定义转换器的准确率差不多，但是快了一点。用下面的代码查看选择了哪些特征:"
   ]
  },
  {
   "cell_type": "code",
   "execution_count": 38,
   "metadata": {},
   "outputs": [
    {
     "data": {
      "text/html": [
       "<div>\n",
       "<style scoped>\n",
       "    .dataframe tbody tr th:only-of-type {\n",
       "        vertical-align: middle;\n",
       "    }\n",
       "\n",
       "    .dataframe tbody tr th {\n",
       "        vertical-align: top;\n",
       "    }\n",
       "\n",
       "    .dataframe thead th {\n",
       "        text-align: right;\n",
       "    }\n",
       "</style>\n",
       "<table border=\"1\" class=\"dataframe\">\n",
       "  <thead>\n",
       "    <tr style=\"text-align: right;\">\n",
       "      <th></th>\n",
       "      <th>column</th>\n",
       "      <th>p_value</th>\n",
       "    </tr>\n",
       "  </thead>\n",
       "  <tbody>\n",
       "    <tr>\n",
       "      <td>5</td>\n",
       "      <td>PAY_0</td>\n",
       "      <td>0.000000e+00</td>\n",
       "    </tr>\n",
       "    <tr>\n",
       "      <td>6</td>\n",
       "      <td>PAY_2</td>\n",
       "      <td>0.000000e+00</td>\n",
       "    </tr>\n",
       "    <tr>\n",
       "      <td>7</td>\n",
       "      <td>PAY_3</td>\n",
       "      <td>0.000000e+00</td>\n",
       "    </tr>\n",
       "    <tr>\n",
       "      <td>8</td>\n",
       "      <td>PAY_4</td>\n",
       "      <td>1.899297e-315</td>\n",
       "    </tr>\n",
       "    <tr>\n",
       "      <td>9</td>\n",
       "      <td>PAY_5</td>\n",
       "      <td>1.126608e-279</td>\n",
       "    </tr>\n",
       "    <tr>\n",
       "      <td>10</td>\n",
       "      <td>PAY_6</td>\n",
       "      <td>7.296740e-234</td>\n",
       "    </tr>\n",
       "    <tr>\n",
       "      <td>0</td>\n",
       "      <td>LIMIT_BAL</td>\n",
       "      <td>1.302244e-157</td>\n",
       "    </tr>\n",
       "  </tbody>\n",
       "</table>\n",
       "</div>"
      ],
      "text/plain": [
       "       column        p_value\n",
       "5       PAY_0   0.000000e+00\n",
       "6       PAY_2   0.000000e+00\n",
       "7       PAY_3   0.000000e+00\n",
       "8       PAY_4  1.899297e-315\n",
       "9       PAY_5  1.126608e-279\n",
       "10      PAY_6  7.296740e-234\n",
       "0   LIMIT_BAL  1.302244e-157"
      ]
     },
     "execution_count": 38,
     "metadata": {},
     "output_type": "execute_result"
    }
   ],
   "source": [
    "k_best = SelectKBest(f_classif, k=7)\n",
    "k_best.fit(X, y)\n",
    "\n",
    "# 前と同じで\n",
    "p_values = pd.DataFrame({\n",
    "    \"column\": X.columns,\n",
    "    \"p_value\": k_best.pvalues_,\n",
    "}).sort_values(\"p_value\")\n",
    "\n",
    "p_values.head(7)"
   ]
  },
  {
   "cell_type": "markdown",
   "metadata": {},
   "source": [
    "在开始基于模型的特征选择前，我们可以进行一次快速的完整性检查，以确保路线正确。到目前为止，为了取得最佳准确率，我们已经用了特征选择的两种统计方法，每次选择的7个特征都一样。如果选择这7个特征之外的所有特征呢?是不是流水线的准确率会下降，流水线会劣化?我们来确认一下。下面的代码会进行完整性测试:"
   ]
  },
  {
   "cell_type": "code",
   "execution_count": 39,
   "metadata": {},
   "outputs": [
    {
     "name": "stdout",
     "output_type": "stream",
     "text": [
      "Best Accuracy: 0.7839666666666667\n",
      "Best Parameters: {'max_depth': 5}\n",
      "Average Time to Fit (s):0.112\n",
      "Average Time to Score (s):0.002\n"
     ]
    }
   ],
   "source": [
    "# 完整性测试\n",
    "# 用最差的特征\n",
    "the_worst_of_X = X[X.columns.drop(['LIMIT_BAL', 'PAY_0', 'PAY_2', 'PAY_3', 'PAY_4', 'PAY_5', 'PAY_6'])]\n",
    "\n",
    "# 如果选择的特征特别差\n",
    "# 性能也会受影响\n",
    "get_best_model_and_accuracy(d_tree, tree_params, the_worst_of_X, y)"
   ]
  },
  {
   "cell_type": "markdown",
   "metadata": {},
   "source": [
    "因此，如果不选择之前的7个特征，不仅准确性会变差(几乎和空准确率一样差)，而且拟合时间也会变慢。现在我们可以继续了解下一种特征选择方法了——基于模型的方法。\n"
   ]
  },
  {
   "cell_type": "markdown",
   "metadata": {},
   "source": [
    "### 5.3.2 基于模型的特征选择"
   ]
  },
  {
   "cell_type": "markdown",
   "metadata": {},
   "source": [
    "#### 1. 再议自然语言处理"
   ]
  },
  {
   "cell_type": "markdown",
   "metadata": {},
   "source": [
    "如果你在本章一开始觉得特征选择好像不是全新的概念，而是与相关系数和统计测试一样熟悉，这不是错觉。在第4章，我们介绍了scikit-learn中CountVectorizer的概念。该模块可以从文本中构建特征，并用于机器学习流水线。"
   ]
  },
  {
   "cell_type": "markdown",
   "metadata": {},
   "source": [
    "CountVectorizer有很多参数，在搜索最佳流水线时可以调整。具体来说，有以下几个内置的特征选择参数。\n",
    "\n",
    "- max_features:整数，设置特征构建器可以记忆的最多特征数量。要记忆的特征是由一个排名系统决定的，它依照词项在语料库中的出现次数进行排序。\n",
    "\n",
    "- min_df:浮点数，为词项在语料库中出现的频率设定下限;如果低于该值，则不进行标记。\n",
    "\n",
    "- max_df:浮点数，和min_df类似，设定词项的频率上限。\n",
    "\n",
    "- stop_words:按照内置静态列表对词项类型进行限制。如果词项在stop_words中，那么即使频率在min_df和max_df允许的范围内，也会被省略。"
   ]
  },
  {
   "cell_type": "code",
   "execution_count": 40,
   "metadata": {},
   "outputs": [
    {
     "data": {
      "text/html": [
       "<div>\n",
       "<style scoped>\n",
       "    .dataframe tbody tr th:only-of-type {\n",
       "        vertical-align: middle;\n",
       "    }\n",
       "\n",
       "    .dataframe tbody tr th {\n",
       "        vertical-align: top;\n",
       "    }\n",
       "\n",
       "    .dataframe thead th {\n",
       "        text-align: right;\n",
       "    }\n",
       "</style>\n",
       "<table border=\"1\" class=\"dataframe\">\n",
       "  <thead>\n",
       "    <tr style=\"text-align: right;\">\n",
       "      <th></th>\n",
       "      <th>ItemID</th>\n",
       "      <th>Sentiment</th>\n",
       "      <th>SentimentText</th>\n",
       "    </tr>\n",
       "  </thead>\n",
       "  <tbody>\n",
       "    <tr>\n",
       "      <td>0</td>\n",
       "      <td>1</td>\n",
       "      <td>0</td>\n",
       "      <td>is so sad for my APL frie...</td>\n",
       "    </tr>\n",
       "    <tr>\n",
       "      <td>1</td>\n",
       "      <td>2</td>\n",
       "      <td>0</td>\n",
       "      <td>I missed the New Moon trail...</td>\n",
       "    </tr>\n",
       "    <tr>\n",
       "      <td>2</td>\n",
       "      <td>3</td>\n",
       "      <td>1</td>\n",
       "      <td>omg its already 7:30 :O</td>\n",
       "    </tr>\n",
       "    <tr>\n",
       "      <td>3</td>\n",
       "      <td>4</td>\n",
       "      <td>0</td>\n",
       "      <td>.. Omgaga. Im sooo  im gunna CRy. I'...</td>\n",
       "    </tr>\n",
       "    <tr>\n",
       "      <td>4</td>\n",
       "      <td>5</td>\n",
       "      <td>0</td>\n",
       "      <td>i think mi bf is cheating on me!!!   ...</td>\n",
       "    </tr>\n",
       "  </tbody>\n",
       "</table>\n",
       "</div>"
      ],
      "text/plain": [
       "   ItemID  Sentiment                                      SentimentText\n",
       "0       1          0                       is so sad for my APL frie...\n",
       "1       2          0                     I missed the New Moon trail...\n",
       "2       3          1                            omg its already 7:30 :O\n",
       "3       4          0            .. Omgaga. Im sooo  im gunna CRy. I'...\n",
       "4       5          0           i think mi bf is cheating on me!!!   ..."
      ]
     },
     "execution_count": 40,
     "metadata": {},
     "output_type": "execute_result"
    }
   ],
   "source": [
    "tweets = pd.read_csv(\"/Users/renyanmeng/Feature-Engineering-Made-Easy-master/data/twitter_sentiment.csv\", encoding=\"latin1\")\n",
    "tweets.head()"
   ]
  },
  {
   "cell_type": "code",
   "execution_count": 41,
   "metadata": {},
   "outputs": [],
   "source": [
    "tweets_X, tweets_y = tweets['SentimentText'], tweets['Sentiment']"
   ]
  },
  {
   "cell_type": "code",
   "execution_count": 42,
   "metadata": {},
   "outputs": [],
   "source": [
    "from sklearn.feature_extraction.text import CountVectorizer\n",
    "# 导入朴素贝叶斯，加快处理\n",
    "from sklearn.naive_bayes import MultinomialNB"
   ]
  },
  {
   "cell_type": "code",
   "execution_count": 43,
   "metadata": {},
   "outputs": [],
   "source": [
    "featurizer = CountVectorizer()\n",
    "\n",
    "text_pipe = Pipeline([\n",
    "    (\"featurizer\", featurizer),\n",
    "    (\"classify\", MultinomialNB())\n",
    "])\n",
    "text_pipe_params = {\n",
    "    \"featurizer__ngram_range\": [(1, 2)],\n",
    "    \"featurizer__max_features\": [5000, 10000],\n",
    "    \"featurizer__min_df\": [0., .1, .2, .3],\n",
    "    \"featurizer__max_df\": [.7, .8, .9, 1.]\n",
    "}"
   ]
  },
  {
   "cell_type": "code",
   "execution_count": 44,
   "metadata": {},
   "outputs": [
    {
     "name": "stdout",
     "output_type": "stream",
     "text": [
      "Best Accuracy: 0.7557531328446129\n",
      "Best Parameters: {'featurizer__max_df': 0.7, 'featurizer__max_features': 10000, 'featurizer__min_df': 0.0, 'featurizer__ngram_range': (1, 2)}\n",
      "Average Time to Fit (s):3.018\n",
      "Average Time to Score (s):0.506\n"
     ]
    }
   ],
   "source": [
    "get_best_model_and_accuracy(text_pipe, text_pipe_params, tweets_X, tweets_y)"
   ]
  },
  {
   "cell_type": "markdown",
   "metadata": {},
   "source": [
    "数据不错(空准确率是0.564)，但是上一章使用FeatureUnion模块来组合TfidfVectorizer和CountVectorizer，比这次的分数还高。"
   ]
  },
  {
   "cell_type": "markdown",
   "metadata": {},
   "source": [
    "我们测试一下新技术，用SelectKBest和CountVectorizer组合一个流水线。看看这次能否不依赖内置的CountVectorizer选择特征，而是用统计测试:"
   ]
  },
  {
   "cell_type": "code",
   "execution_count": 45,
   "metadata": {},
   "outputs": [
    {
     "name": "stdout",
     "output_type": "stream",
     "text": [
      "Best Accuracy: 0.7529728270109712\n",
      "Best Parameters: {'select_k__k': 5000}\n",
      "Average Time to Fit (s):3.424\n",
      "Average Time to Score (s):0.838\n"
     ]
    }
   ],
   "source": [
    "# 更基础，但是用了 SelectKBest 的流水线\n",
    "featurizer = CountVectorizer(ngram_range=(1, 2))\n",
    "\n",
    "select_k_text_pipe = Pipeline([\n",
    "    (\"featurizer\", featurizer),\n",
    "    (\"select_k\", SelectKBest()),\n",
    "    (\"classify\", MultinomialNB())\n",
    "])\n",
    "select_k_text_pipe_params = {\"select_k__k\": [1000, 5000]}\n",
    "\n",
    "get_best_model_and_accuracy(select_k_text_pipe, select_k_text_pipe_params,\n",
    "                           tweets_X, tweets_y)\n"
   ]
  },
  {
   "cell_type": "markdown",
   "metadata": {},
   "source": [
    "看起来SelectKBest对于文本数据效果不好。如果没有FeatureUnion，我们不能达到上4一章的准确率。值得注意的是，无论使用何种方式，拟合和预测的时间都很长:这是因为统计单变量方法在大量特征(例如从文本向量化中获取的特征)上表现不佳。"
   ]
  },
  {
   "cell_type": "markdown",
   "metadata": {},
   "source": [
    "#### 2. 使用机器学习选择特征"
   ]
  },
  {
   "cell_type": "markdown",
   "metadata": {},
   "source": [
    "在文本处理中，CountVectorizer内置的特征选择工具表现不错，但是一般处理的是已经5有行列结构的数据。我们已经看到了基于纯统计方法的特征选择非常强大，现在研究如何使用这些方法让机器学习变得更好。本节主要使用的两类模型是基于树的模型和线性模型。这两类模型都有特征排列的功能，在对特征划分子集时很有用。"
   ]
  },
  {
   "cell_type": "markdown",
   "metadata": {},
   "source": [
    "在进一步研究前，我们需要强调，虽然这些方法的逻辑并不相同，但是目标一致:找到最佳的特征子集，优化机器学习流水线。我们要介绍的第一个方法会涉及拟合训练数据时算法(例如训练决策树和随机森林)内部指标的重要性。\n"
   ]
  },
  {
   "cell_type": "markdown",
   "metadata": {},
   "source": [
    "- 特征选择指标——针对基于树的模型\n",
    "\n",
    "在拟合决策树时，决策树会从根节点开始，在每个节点处贪婪地选择最优分割，优化节点纯净度指标。默认情况下，scikit-learn每步都会优化基尼指数(ginimetric)。每次分割时，模型会记录每个分割对整体优化目标的帮助。因此，在树形结构中，这些指标对特征重要性有作用。\n",
    "\n",
    "为了进一步说明，我们拟合一个决策树，并输出特征重要性，如下所示:"
   ]
  },
  {
   "cell_type": "code",
   "execution_count": 46,
   "metadata": {},
   "outputs": [
    {
     "data": {
      "text/plain": [
       "array([0.05876134, 0.01057613, 0.02572384, 0.01262155, 0.07052805,\n",
       "       0.16279301, 0.03412382, 0.01157655, 0.0073731 , 0.00808697,\n",
       "       0.01334211, 0.07009351, 0.05290995, 0.04615296, 0.04243602,\n",
       "       0.04091355, 0.05192118, 0.0474346 , 0.04986553, 0.05317766,\n",
       "       0.03629779, 0.04565217, 0.04763861])"
      ]
     },
     "execution_count": 46,
     "metadata": {},
     "output_type": "execute_result"
    }
   ],
   "source": [
    "tree = DecisionTreeClassifier()\n",
    "tree.fit(X, y)\n",
    "\n",
    "# 可以用 feature_importances_属性展示特征对于拟合树的重要性:\n",
    "tree.feature_importances_"
   ]
  },
  {
   "cell_type": "code",
   "execution_count": 47,
   "metadata": {},
   "outputs": [
    {
     "data": {
      "text/html": [
       "<div>\n",
       "<style scoped>\n",
       "    .dataframe tbody tr th:only-of-type {\n",
       "        vertical-align: middle;\n",
       "    }\n",
       "\n",
       "    .dataframe tbody tr th {\n",
       "        vertical-align: top;\n",
       "    }\n",
       "\n",
       "    .dataframe thead th {\n",
       "        text-align: right;\n",
       "    }\n",
       "</style>\n",
       "<table border=\"1\" class=\"dataframe\">\n",
       "  <thead>\n",
       "    <tr style=\"text-align: right;\">\n",
       "      <th></th>\n",
       "      <th>feature</th>\n",
       "      <th>importance</th>\n",
       "    </tr>\n",
       "  </thead>\n",
       "  <tbody>\n",
       "    <tr>\n",
       "      <td>5</td>\n",
       "      <td>PAY_0</td>\n",
       "      <td>0.162793</td>\n",
       "    </tr>\n",
       "    <tr>\n",
       "      <td>4</td>\n",
       "      <td>AGE</td>\n",
       "      <td>0.070528</td>\n",
       "    </tr>\n",
       "    <tr>\n",
       "      <td>11</td>\n",
       "      <td>BILL_AMT1</td>\n",
       "      <td>0.070094</td>\n",
       "    </tr>\n",
       "    <tr>\n",
       "      <td>0</td>\n",
       "      <td>LIMIT_BAL</td>\n",
       "      <td>0.058761</td>\n",
       "    </tr>\n",
       "    <tr>\n",
       "      <td>19</td>\n",
       "      <td>PAY_AMT3</td>\n",
       "      <td>0.053178</td>\n",
       "    </tr>\n",
       "  </tbody>\n",
       "</table>\n",
       "</div>"
      ],
      "text/plain": [
       "      feature  importance\n",
       "5       PAY_0    0.162793\n",
       "4         AGE    0.070528\n",
       "11  BILL_AMT1    0.070094\n",
       "0   LIMIT_BAL    0.058761\n",
       "19   PAY_AMT3    0.053178"
      ]
     },
     "execution_count": 47,
     "metadata": {},
     "output_type": "execute_result"
    }
   ],
   "source": [
    "importances = pd.DataFrame({\n",
    "    \"feature\": X.columns,\n",
    "    \"importance\": tree.feature_importances_,\n",
    "}).sort_values(\"importance\", ascending=False)\n",
    "\n",
    "importances.head()"
   ]
  },
  {
   "cell_type": "code",
   "execution_count": 48,
   "metadata": {},
   "outputs": [
    {
     "data": {
      "text/plain": [
       "Text(0.5, 1.0, 'importances')"
      ]
     },
     "execution_count": 48,
     "metadata": {},
     "output_type": "execute_result"
    },
    {
     "data": {
      "image/png": "[encoded data removed]",
      "text/plain": [
       "<Figure size 1080x720 with 1 Axes>"
      ]
     },
     "metadata": {
      "needs_background": "light"
     },
     "output_type": "display_data"
    }
   ],
   "source": [
    "ax = importances.set_index(\"feature\").plot(kind=\"barh\", figsize=(15, 10))\n",
    "ax.set_title(\"importances\")"
   ]
  },
  {
   "cell_type": "markdown",
   "metadata": {},
   "source": [
    "\n",
    "上表显示，拟合中最重要的特征是PAY_0，和上一章统计模型的结果相匹配。更值得注意的是第2、第3和第5个特征，这3个特征在进行统计测试前没有显示出重要性。这意味着，这种特征选择方法有可能带来一些新的结果。"
   ]
  },
  {
   "cell_type": "markdown",
   "metadata": {},
   "source": [
    "回想一下，之前我们使用scikit-learn内置的包装器SelectKBest，基于排序函数(例如ANOVA的p值)取前k个特征。下面会引入一个新的包装器SelectFromModel，和SelectKBest一样选取最重要的前k个特征。但是，它会使用机器学习模型的内部指标来评估特征的重要性，不使用统计测试的p值。我们用下面的代码定义SelectFromModel:"
   ]
  },
  {
   "cell_type": "code",
   "execution_count": 49,
   "metadata": {},
   "outputs": [],
   "source": [
    "# 和 SelectKBest 相似，但不是统计测试\n",
    "from sklearn.feature_selection import SelectFromModel"
   ]
  },
  {
   "cell_type": "markdown",
   "metadata": {},
   "source": [
    "SelectFromModel和SelectKBest相比最大的不同之处在于不使用k(需要保留的特征数):SelectFromModel使用阈值，代表重要性的最低限度。通过这种方式，这种基于模型的选择器可以脱离人工筛选的过程，只保留与流水线所需同等数量的特征。我们实例化这个类:"
   ]
  },
  {
   "cell_type": "code",
   "execution_count": 50,
   "metadata": {},
   "outputs": [],
   "source": [
    "# 实例化一个类，按照决策树分类器的内部指标排序重要性，选择特征\n",
    "select_from_model = SelectFromModel(DecisionTreeClassifier(), threshold=.05)"
   ]
  },
  {
   "cell_type": "code",
   "execution_count": 51,
   "metadata": {
    "scrolled": true
   },
   "outputs": [
    {
     "data": {
      "text/plain": [
       "(30000, 8)"
      ]
     },
     "execution_count": 51,
     "metadata": {},
     "output_type": "execute_result"
    }
   ],
   "source": [
    "selectd_X = select_from_model.fit_transform(X, y)\n",
    "selectd_X.shape\n",
    "# numpy type"
   ]
  },
  {
   "cell_type": "markdown",
   "metadata": {},
   "source": [
    "了解了模块的基本原理后，我们可以在流水线中应用选择功能。我们需要击败的准确率是0.8206，之前的相关性选择器和ANOVA都得到了这个准确率(因为选择的特征相同):"
   ]
  },
  {
   "cell_type": "code",
   "execution_count": 52,
   "metadata": {},
   "outputs": [
    {
     "data": {
      "text/plain": [
       "{'classifier__max_depth': [None, 1, 3, 5, 7, 9, 11, 13, 15, 17, 19, 21]}"
      ]
     },
     "execution_count": 52,
     "metadata": {},
     "output_type": "execute_result"
    }
   ],
   "source": [
    "tree_pipe_params"
   ]
  },
  {
   "cell_type": "code",
   "execution_count": 53,
   "metadata": {},
   "outputs": [
    {
     "name": "stdout",
     "output_type": "stream",
     "text": [
      "{'classifier__max_depth': [1, 3, 5, 7], 'select__threshold': [0.01, 0.05, 0.1, 0.2, 0.25, 0.3, 0.4, 0.5, 0.6, 'mean', 'median', '2.*mean'], 'select__estimator__max_depth': [None, 1, 3, 5, 7]}\n"
     ]
    }
   ],
   "source": [
    "# 为后面加速\n",
    "tree_pipe_params = {\"classifier__max_depth\": [1, 3, 5, 7]}\n",
    "\n",
    "from sklearn.pipeline import Pipeline\n",
    "\n",
    "select = SelectFromModel(DecisionTreeClassifier())\n",
    "\n",
    "select_from_pipe = Pipeline([\n",
    "    (\"select\", select),\n",
    "    (\"classifier\", d_tree)\n",
    "])\n",
    "select_from_pipe_params = deepcopy(tree_pipe_params)\n",
    "select_from_pipe_params.update({\n",
    "    \"select__threshold\": [.01, .05, .1, .2, .25, .3, .4, .5, .6, \"mean\", \"median\", \"2.*mean\"],\n",
    "    'select__estimator__max_depth': [None, 1, 3, 5, 7],\n",
    "})\n",
    "\n",
    "print(select_from_pipe_params)"
   ]
  },
  {
   "cell_type": "code",
   "execution_count": 54,
   "metadata": {},
   "outputs": [
    {
     "name": "stdout",
     "output_type": "stream",
     "text": [
      "Best Accuracy: 0.8202666666666667\n",
      "Best Parameters: {'classifier__max_depth': 3, 'select__estimator__max_depth': None, 'select__threshold': 0.01}\n",
      "Average Time to Fit (s):0.146\n",
      "Average Time to Score (s):0.002\n"
     ]
    }
   ],
   "source": [
    "get_best_model_and_accuracy(select_from_pipe, select_from_pipe_params, \n",
    "                           X, y)\n",
    "# 没有比原来的更好"
   ]
  },
  {
   "cell_type": "markdown",
   "metadata": {},
   "source": [
    "首先注意，我们可以用一些保留字作为阈值参数的一部分，并不是必须选择表示最低重要性的浮点数。例如，mean的阈值只选择比均值更重要的特征，median的阈值只选择比中位数更重要的特征。我们还可以用这些保留字的倍数，例如2.*mean代表比均值重要两倍的特征。"
   ]
  },
  {
   "cell_type": "markdown",
   "metadata": {},
   "source": [
    "现在查看基于决策树的选择器选出了哪些特征，可以使用SelectFromModel的get_support()方法。这个方法会返回一个数组，其中的每个布尔值代表一个特征，从而告诉我们保留了哪些特征，如下所示:"
   ]
  },
  {
   "cell_type": "code",
   "execution_count": 55,
   "metadata": {
    "scrolled": true
   },
   "outputs": [
    {
     "data": {
      "text/plain": [
       "Index(['LIMIT_BAL', 'SEX', 'EDUCATION', 'MARRIAGE', 'AGE', 'PAY_0', 'PAY_2',\n",
       "       'PAY_3', 'PAY_6', 'BILL_AMT1', 'BILL_AMT2', 'BILL_AMT3', 'BILL_AMT4',\n",
       "       'BILL_AMT5', 'BILL_AMT6', 'PAY_AMT1', 'PAY_AMT2', 'PAY_AMT3',\n",
       "       'PAY_AMT4', 'PAY_AMT5', 'PAY_AMT6'],\n",
       "      dtype='object')"
      ]
     },
     "execution_count": 55,
     "metadata": {},
     "output_type": "execute_result"
    }
   ],
   "source": [
    "# 设置流水线最佳参数\n",
    "select_from_pipe.set_params(\n",
    "    **{'classifier__max_depth': 3, 'select__estimator__max_depth': None, 'select__threshold': 0.01})\n",
    "# 拟合数据\n",
    "select_from_pipe.steps[0][1].fit(X, y)\n",
    "# 列出选择的列\n",
    "X.columns[select_from_pipe.steps[0][1].get_support()]"
   ]
  },
  {
   "cell_type": "markdown",
   "metadata": {},
   "source": [
    "这棵树选择了除了两个特征外的所有其他特征，但是和什么都不选的树性能没什么区别。"
   ]
  },
  {
   "cell_type": "markdown",
   "metadata": {},
   "source": [
    "#### 3. 线性模型和正则化"
   ]
  },
  {
   "cell_type": "markdown",
   "metadata": {},
   "source": [
    "SelectFromModel可以处理任何包括feature_importances_或coef_属性的机器学习模型。基于树的模型会暴露前者，线性模型则会暴露后者。在拟合后，线性回归、逻辑回归、支持向量机(SVM，supportvectormachine)等线性模型会将一个系数放在特征的斜率(重要性)前面。SelectFromModel会认为这个系数等同于重要性，并根据拟合时的系数选择特征。\n",
    "\n",
    "然而，在使用模型之前，我们需要引入正则化的概念，以选择真正有用的特征。\n",
    "\n",
    "- 正则化简介\n",
    "\n",
    "在线性模型中，正则化是一种对模型施加额外约束的方法，目的是防止过拟合，并改进数据泛化能力。正则化通过对需要优化的损失函数添加额外的条件来完成，意味着在拟合时，正则化的线性模型有可能严重减少甚至损坏特征。"
   ]
  },
  {
   "cell_type": "markdown",
   "metadata": {},
   "source": [
    "- 另一个特征重要性指标:线性模型参数\n",
    "\n",
    "和之前用树的方法一样，我们可以用 L1 和 L2 正则化为特征选择寻找最佳系数。我们用逻辑回归模型作为选择器，在 L1 和 L2 范数上进行网格搜索:"
   ]
  },
  {
   "cell_type": "code",
   "execution_count": 56,
   "metadata": {},
   "outputs": [
    {
     "name": "stdout",
     "output_type": "stream",
     "text": [
      "{'classifier__max_depth': [1, 3, 5, 7], 'select__threshold': [0.01, 0.05, 0.1, 'mean', 'median', '2.*mean'], 'select__estimator__penalty': ['l1', 'l2']}\n"
     ]
    }
   ],
   "source": [
    "# 用正则化后的逻辑回归进行选择\n",
    "logistic_selector = SelectFromModel(LogisticRegression())\n",
    "\n",
    "# 新流水线，用 LogistisRegression 的参数进行排列\n",
    "regularization_pipe = Pipeline([\n",
    "    (\"select\", logistic_selector),\n",
    "    (\"classifier\", tree)\n",
    "])\n",
    "regularization_pipe_params = deepcopy(tree_pipe_params)\n",
    "\n",
    "# L1和L2正则化\n",
    "regularization_pipe_params.update({\n",
    "    \"select__threshold\": [.01, .05, .1, \"mean\", \"median\", \"2.*mean\"],\n",
    "    \"select__estimator__penalty\": ['l1', 'l2'],\n",
    "})\n",
    "\n",
    "print(regularization_pipe_params)"
   ]
  },
  {
   "cell_type": "code",
   "execution_count": 57,
   "metadata": {},
   "outputs": [
    {
     "name": "stdout",
     "output_type": "stream",
     "text": [
      "Best Accuracy: 0.8211666666666667\n",
      "Best Parameters: {'classifier__max_depth': 5, 'select__estimator__penalty': 'l1', 'select__threshold': 0.01}\n",
      "Average Time to Fit (s):0.496\n",
      "Average Time to Score (s):0.002\n"
     ]
    }
   ],
   "source": [
    "get_best_model_and_accuracy(regularization_pipe, regularization_pipe_params, X, y)\n",
    "# 比原来的好，实际上是目前最好的，也快得多"
   ]
  },
  {
   "cell_type": "markdown",
   "metadata": {},
   "source": [
    "现在的准确率终于超过统计测试选择器了。再次使用SelectFromModel的get_support()方法，列出选择的特征:"
   ]
  },
  {
   "cell_type": "code",
   "execution_count": 58,
   "metadata": {},
   "outputs": [
    {
     "data": {
      "text/plain": [
       "Index(['SEX', 'EDUCATION', 'MARRIAGE', 'PAY_0', 'PAY_2', 'PAY_3', 'PAY_4',\n",
       "       'PAY_5'],\n",
       "      dtype='object')"
      ]
     },
     "execution_count": 58,
     "metadata": {},
     "output_type": "execute_result"
    }
   ],
   "source": [
    "# 设置流水线最佳参数\n",
    "regularization_pipe.set_params(\n",
    "**{'classifier__max_depth': 5, 'select__estimator__penalty': 'l1', 'select__threshold': 0.01})\n",
    "\n",
    "# 拟合数据\n",
    "regularization_pipe.steps[0][1].fit(X, y)\n",
    "\n",
    "# 列出选择的列\n",
    "X.columns[regularization_pipe.steps[0][1].get_support()]"
   ]
  },
  {
   "cell_type": "markdown",
   "metadata": {},
   "source": [
    "非常好!基于逻辑回归的选择器选择了大部分的PAY_X特征，也发现了性别、教育和婚姻状况可以帮助预测。接下来用SelectFromModel模块在支持向量机分类器上进行测试。\n",
    "\n",
    "支持向量机是分类模型，在空间中绘制线性边界，对二分数据进行分类。这些线性边界叫作支持向量。目前看来，逻辑回归分类器和支持向量分类器(SVC)的最大区别在于，后者会最大优化二分类项目的准确性，而前者对属性的建模更好。像之前决策树和逻辑回归一样，我们用scikit-learn实现一个线性SVC模型，代码如下:"
   ]
  },
  {
   "cell_type": "code",
   "execution_count": 59,
   "metadata": {},
   "outputs": [
    {
     "name": "stdout",
     "output_type": "stream",
     "text": [
      "{'classifier__max_depth': [1, 3, 5, 7], 'select__threshold': [0.01, 0.05, 0.1, 'mean', 'median', '2.*mean'], 'select__estimator__penalty': ['l1', 'l2'], 'select__estimator__loss': ['squared_hinge', 'hinge'], 'select__estimator__dual': [True, False]}\n"
     ]
    }
   ],
   "source": [
    "# SVC 是线性模型，用线性支持在欧几里得空间内分割数据 \n",
    "# 只能分割二分数据\n",
    "from sklearn.svm import LinearSVC\n",
    "\n",
    "# 用SVC取参数\n",
    "svc_selector = SelectFromModel(LinearSVC())\n",
    "svc_pipe = Pipeline([\n",
    "    (\"select\", svc_selector),\n",
    "    (\"classifier\", tree)\n",
    "])\n",
    "\n",
    "svc_pipe_params = deepcopy(tree_pipe_params)\n",
    "\n",
    "svc_pipe_params.update({\n",
    "    'select__threshold': [.01, .05, .1, \"mean\", \"median\", \"2.*mean\"],\n",
    "    'select__estimator__penalty': ['l1', 'l2'],\n",
    "    'select__estimator__loss': ['squared_hinge', 'hinge'],\n",
    "    'select__estimator__dual': [True, False]\n",
    "})\n",
    "\n",
    "print(svc_pipe_params)"
   ]
  },
  {
   "cell_type": "code",
   "execution_count": 60,
   "metadata": {},
   "outputs": [
    {
     "name": "stdout",
     "output_type": "stream",
     "text": [
      "Best Accuracy: 0.8212333333333334\n",
      "Best Parameters: {'classifier__max_depth': 5, 'select__estimator__dual': False, 'select__estimator__loss': 'squared_hinge', 'select__estimator__penalty': 'l1', 'select__threshold': 0.01}\n",
      "Average Time to Fit (s):0.812\n",
      "Average Time to Score (s):0.001\n"
     ]
    }
   ],
   "source": [
    "get_best_model_and_accuracy(svc_pipe, svc_pipe_params, \n",
    "                            X, y)\n",
    "# 刷新了纪录"
   ]
  },
  {
   "cell_type": "code",
   "execution_count": 61,
   "metadata": {},
   "outputs": [
    {
     "data": {
      "text/plain": [
       "Index(['SEX', 'EDUCATION', 'MARRIAGE', 'PAY_0', 'PAY_2', 'PAY_3', 'PAY_5'], dtype='object')"
      ]
     },
     "execution_count": 61,
     "metadata": {},
     "output_type": "execute_result"
    }
   ],
   "source": [
    "# 设置流水线最佳参数\n",
    "svc_pipe.set_params(\n",
    "    **{'classifier__max_depth': 5, \n",
    "       'select__estimator__dual': False, \n",
    "       'select__estimator__loss': 'squared_hinge', \n",
    "       'select__estimator__penalty': 'l1', \n",
    "       'select__threshold': 0.01})\n",
    "# 拟合数据\n",
    "svc_pipe.steps[0][1].fit(X, y)\n",
    "# 列出选择的列\n",
    "X.columns[svc_pipe.steps[0][1].get_support()]"
   ]
  },
  {
   "cell_type": "markdown",
   "metadata": {},
   "source": [
    "与逻辑回归比，唯一的区别是 PAY_4 特征。但是可以看到，移除单个特征不会影响流水线的性能。"
   ]
  },
  {
   "cell_type": "markdown",
   "metadata": {},
   "source": [
    "## 5.4 选用正确的特征选择方法"
   ]
  },
  {
   "cell_type": "markdown",
   "metadata": {},
   "source": [
    "现在你有可能感到本章的信息过多，难以消化。我们演示了几种选择特征的方法，其中一部分基于统计学，另一部分基于机器学习模型的二次输出。一个很自然的问题是:应该如何选用特征选择方法?理论上说，最理想的状况是，你可以像本章这样多次尝试，但我们知道这样是不可行的。下面是一些经验，可以在判断特征选择方法的优劣时参考。"
   ]
  },
  {
   "cell_type": "markdown",
   "metadata": {},
   "source": [
    "- 如果特征是分类的，那么从SelectKBest开始，用卡方或基于树的选择器。\n",
    "- 如果特征基本是定量的(例如本例)，用线性模型和基于相关性的选择器一般效果更好。\n",
    "- 如果是二元分类问题，考虑使用SelectFromModel和SVC，因为SVC会查找优化二元分类任务的系数。\n",
    "- 在手动选择前，探索性数据分析会很有益处。不能低估领域知识的重要性。\n",
    "\n",
    "这些只是指导性建议。作为数据科学家，你最终要确定保留哪些特征以优化指标。本书提供的方法可以帮助你在噪声和多重共线性中挖掘潜在的特征。"
   ]
  },
  {
   "cell_type": "code",
   "execution_count": null,
   "metadata": {},
   "outputs": [],
   "source": []
  }
 ],
 "metadata": {
  "kernelspec": {
   "display_name": "Python 3",
   "language": "python",
   "name": "python3"
  },
  "language_info": {
   "codemirror_mode": {
    "name": "ipython",
    "version": 3
   },
   "file_extension": ".py",
   "mimetype": "text/x-python",
   "name": "python",
   "nbconvert_exporter": "python",
   "pygments_lexer": "ipython3",
   "version": "3.7.4"
  }
 },
 "nbformat": 4,
 "nbformat_minor": 2
}
